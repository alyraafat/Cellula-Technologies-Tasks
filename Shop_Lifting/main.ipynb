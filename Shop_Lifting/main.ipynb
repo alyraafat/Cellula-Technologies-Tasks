{
 "cells": [
  {
   "cell_type": "code",
   "execution_count": 1,
   "metadata": {},
   "outputs": [],
   "source": [
    "import os\n",
    "import cv2\n",
    "import numpy as np\n",
    "from moviepy.editor import VideoFileClip\n",
    "from tqdm.notebook import tqdm\n",
    "from typing import List, Tuple, Dict, Union\n",
    "import matplotlib.pyplot as plt\n",
    "import pickle as pkl"
   ]
  },
  {
   "cell_type": "markdown",
   "metadata": {},
   "source": [
    "# Preprocessing Data"
   ]
  },
  {
   "cell_type": "code",
   "execution_count": 2,
   "metadata": {},
   "outputs": [],
   "source": [
    "dataset_path = 'Shop DataSet/'\n",
    "non_shop_lifters_path = os.path.join(dataset_path, 'non shop lifters')\n",
    "shop_lifters_path = os.path.join(dataset_path, 'shop lifters')\n"
   ]
  },
  {
   "cell_type": "code",
   "execution_count": 4,
   "metadata": {},
   "outputs": [
    {
     "data": {
      "text/plain": [
       "(531, 324)"
      ]
     },
     "execution_count": 4,
     "metadata": {},
     "output_type": "execute_result"
    }
   ],
   "source": [
    "len(os.listdir(non_shop_lifters_path)), len(os.listdir(shop_lifters_path))"
   ]
  },
  {
   "cell_type": "code",
   "execution_count": 35,
   "metadata": {},
   "outputs": [],
   "source": [
    "def get_frame_rate(video_path):\n",
    "    # Open the video file\n",
    "    video = cv2.VideoCapture(video_path)\n",
    "    \n",
    "    # Check if the video was opened successfully\n",
    "    if not video.isOpened():\n",
    "        print(f\"Error: Cannot open video file {video_path}\")\n",
    "        return None\n",
    "    \n",
    "    # Get the frame rate\n",
    "    fps = video.get(cv2.CAP_PROP_FPS)\n",
    "    \n",
    "    # Release the video object\n",
    "    video.release()\n",
    "    \n",
    "    return fps"
   ]
  },
  {
   "cell_type": "code",
   "execution_count": 40,
   "metadata": {},
   "outputs": [
    {
     "data": {
      "text/plain": [
       "25.0"
      ]
     },
     "execution_count": 40,
     "metadata": {},
     "output_type": "execute_result"
    }
   ],
   "source": [
    "get_frame_rate('./Shop DataSet/non shop lifters/shop_lifter_n_1.mp4')"
   ]
  },
  {
   "cell_type": "code",
   "execution_count": 39,
   "metadata": {},
   "outputs": [
    {
     "data": {
      "text/plain": [
       "24.75"
      ]
     },
     "execution_count": 39,
     "metadata": {},
     "output_type": "execute_result"
    }
   ],
   "source": [
    "get_frame_rate('./Shop DataSet/shop lifters/shop_lifter_10.mp4')"
   ]
  },
  {
   "cell_type": "code",
   "execution_count": 5,
   "metadata": {},
   "outputs": [],
   "source": [
    "def process_and_extract_frames(\n",
    "        dataset_path: str, \n",
    "        new_dir_path: str='./Shop DataSet/preprocessed_data', \n",
    "        target_shape: Tuple[int,int]=(224,224),\n",
    "        sample_rate: int=1):\n",
    "    \"\"\"\n",
    "    Processes and extracts frames from videos in the dataset path.\n",
    "\n",
    "    Parameters:\n",
    "    - dataset_path (str): Path to the folder containing video files.\n",
    "    - new_dir_path (str): Path to save the processed .npy files. Default is './Shop DataSet/preprocessed_data'.\n",
    "    - target_shape (tuple): Desired frame size for resizing. Default is (224, 224).\n",
    "    - sample_rate (int): Interval to sample frames. Default is 1 (every frame).\n",
    "\n",
    "    \"\"\"\n",
    "    new_path = os.path.join(new_dir_path, dataset_path.split('/')[-1])\n",
    "    os.makedirs(new_path, exist_ok=True)\n",
    "    for video in tqdm(os.listdir(dataset_path)):\n",
    "        video_path = os.path.join(dataset_path, video)\n",
    "        cap = cv2.VideoCapture(video_path)\n",
    "        frames = []\n",
    "        frame_count = 0\n",
    "        while True:\n",
    "            ret, frame = cap.read()\n",
    "            if not ret:\n",
    "                break\n",
    "            if frame_count % sample_rate == 0:\n",
    "                frame = cv2.resize(frame, target_shape)\n",
    "                frame = cv2.cvtColor(frame, cv2.COLOR_BGR2RGB)\n",
    "                frames.append(frame)\n",
    "            frame_count += 1\n",
    "        cap.release()\n",
    "        frames = np.array(frames)\n",
    "        output_filename = f\"{video.split('.')[0]}.pkl\"\n",
    "        # np.savez_compressed(os.path.join(new_path, output_filename), frames)\n",
    "        # save as pkl file\n",
    "        pkl.dump(frames, open(os.path.join(new_path, output_filename), 'wb'))\n"
   ]
  },
  {
   "cell_type": "code",
   "execution_count": 11,
   "metadata": {},
   "outputs": [
    {
     "data": {
      "application/vnd.jupyter.widget-view+json": {
       "model_id": "977061b71ae8496d91714986acc95c23",
       "version_major": 2,
       "version_minor": 0
      },
      "text/plain": [
       "  0%|          | 0/324 [00:00<?, ?it/s]"
      ]
     },
     "metadata": {},
     "output_type": "display_data"
    }
   ],
   "source": [
    "process_and_extract_frames(shop_lifters_path)"
   ]
  },
  {
   "cell_type": "code",
   "execution_count": 12,
   "metadata": {},
   "outputs": [
    {
     "data": {
      "application/vnd.jupyter.widget-view+json": {
       "model_id": "91f973ce6b694c95bb71531022d072c2",
       "version_major": 2,
       "version_minor": 0
      },
      "text/plain": [
       "  0%|          | 0/531 [00:00<?, ?it/s]"
      ]
     },
     "metadata": {},
     "output_type": "display_data"
    }
   ],
   "source": [
    "process_and_extract_frames(non_shop_lifters_path)"
   ]
  },
  {
   "cell_type": "code",
   "execution_count": 16,
   "metadata": {},
   "outputs": [
    {
     "data": {
      "text/plain": [
       "(322, 224, 224, 3)"
      ]
     },
     "execution_count": 16,
     "metadata": {},
     "output_type": "execute_result"
    }
   ],
   "source": [
    "sample_video = pkl.load(open('./Shop DataSet/preprocessed_data/shop lifters/shop_lifter_0.pkl', 'rb'))\n",
    "sample_video.shape"
   ]
  },
  {
   "cell_type": "code",
   "execution_count": 21,
   "metadata": {},
   "outputs": [],
   "source": [
    "def get_seq_len(dataset_path: str) -> Tuple[int,int]:\n",
    "    min_seq_len = float('inf')\n",
    "    max_seq_len = float('-inf')\n",
    "    all_seq_len = []\n",
    "    for video_path in tqdm(os.listdir(dataset_path)):\n",
    "        video = pkl.load(open(os.path.join(dataset_path, video_path), 'rb'))\n",
    "        min_seq_len = min(min_seq_len, video.shape[0])\n",
    "        max_seq_len = max(max_seq_len, video.shape[0])\n",
    "        all_seq_len.append(video.shape[0])\n",
    "    return min_seq_len, max_seq_len, all_seq_len"
   ]
  },
  {
   "cell_type": "code",
   "execution_count": 22,
   "metadata": {},
   "outputs": [
    {
     "data": {
      "application/vnd.jupyter.widget-view+json": {
       "model_id": "4b72aac2374042d5977fa6806853d7a2",
       "version_major": 2,
       "version_minor": 0
      },
      "text/plain": [
       "  0%|          | 0/324 [00:00<?, ?it/s]"
      ]
     },
     "metadata": {},
     "output_type": "display_data"
    }
   ],
   "source": [
    "min_sl_seq_len, max_sl_seq_len, all_sl_seq_len = get_seq_len('./Shop DataSet/preprocessed_data/shop lifters')"
   ]
  },
  {
   "cell_type": "code",
   "execution_count": 23,
   "metadata": {},
   "outputs": [
    {
     "data": {
      "text/plain": [
       "(100, 570)"
      ]
     },
     "execution_count": 23,
     "metadata": {},
     "output_type": "execute_result"
    }
   ],
   "source": [
    "min_sl_seq_len, max_sl_seq_len"
   ]
  },
  {
   "cell_type": "code",
   "execution_count": 24,
   "metadata": {},
   "outputs": [
    {
     "data": {
      "application/vnd.jupyter.widget-view+json": {
       "model_id": "7a378aa6fa3e4f33aa9a38b15bce5d87",
       "version_major": 2,
       "version_minor": 0
      },
      "text/plain": [
       "  0%|          | 0/531 [00:00<?, ?it/s]"
      ]
     },
     "metadata": {},
     "output_type": "display_data"
    }
   ],
   "source": [
    "min_nsl_seq_len, max_nsl_seq_len, all_nsl_seq_len = get_seq_len('./Shop DataSet/preprocessed_data/non shop lifters')"
   ]
  },
  {
   "cell_type": "code",
   "execution_count": 25,
   "metadata": {},
   "outputs": [
    {
     "data": {
      "text/plain": [
       "(75, 1850)"
      ]
     },
     "execution_count": 25,
     "metadata": {},
     "output_type": "execute_result"
    }
   ],
   "source": [
    "min_nsl_seq_len, max_nsl_seq_len"
   ]
  },
  {
   "cell_type": "code",
   "execution_count": 26,
   "metadata": {},
   "outputs": [],
   "source": [
    "all_seq_len = all_sl_seq_len + all_nsl_seq_len\n",
    "all_seq_len = np.array(all_seq_len)"
   ]
  },
  {
   "cell_type": "code",
   "execution_count": 27,
   "metadata": {},
   "outputs": [
    {
     "data": {
      "image/png": "[encoded data removed]",
      "text/plain": [
       "<Figure size 1000x600 with 1 Axes>"
      ]
     },
     "metadata": {},
     "output_type": "display_data"
    }
   ],
   "source": [
    "plt.figure(figsize=(10, 6))\n",
    "plt.hist(all_seq_len, bins=30, color='skyblue', edgecolor='black')\n",
    "plt.title('Distribution of Video Sequence Lengths')\n",
    "plt.xlabel('Sequence Length')\n",
    "plt.ylabel('Number of Videos')\n",
    "plt.grid(True)\n",
    "plt.show()"
   ]
  },
  {
   "cell_type": "code",
   "execution_count": 28,
   "metadata": {},
   "outputs": [
    {
     "data": {
      "text/plain": [
       "(75, 1850)"
      ]
     },
     "execution_count": 28,
     "metadata": {},
     "output_type": "execute_result"
    }
   ],
   "source": [
    "all_seq_len.min(), all_seq_len.max()"
   ]
  },
  {
   "cell_type": "code",
   "execution_count": 29,
   "metadata": {},
   "outputs": [
    {
     "data": {
      "text/plain": [
       "500.0"
      ]
     },
     "execution_count": 29,
     "metadata": {},
     "output_type": "execute_result"
    }
   ],
   "source": [
    "np.percentile(a=all_seq_len, q=97)"
   ]
  },
  {
   "cell_type": "markdown",
   "metadata": {},
   "source": [
    "# Prepare Dataset"
   ]
  },
  {
   "cell_type": "code",
   "execution_count": 6,
   "metadata": {},
   "outputs": [],
   "source": [
    "from sklearn.model_selection import train_test_split\n",
    "shop_lifter_pkl = os.listdir('./Shop DataSet/preprocessed_data/shop lifters')\n",
    "non_shop_lifter_pkl = os.listdir('./Shop DataSet/preprocessed_data/non shop lifters')\n",
    "# non_shop_lifter_pkl = [file for file in non_shop_lifter_pkl if ('_1' not in file) or (file == 'shop_lifter_n_1.pkl')]\n",
    "\n",
    "shop_lifter_pkl = [f'./Shop DataSet/preprocessed_data/shop lifters/{file}' for file in shop_lifter_pkl]\n",
    "non_shop_lifter_pkl = [f'./Shop DataSet/preprocessed_data/non shop lifters/{file}' for file in non_shop_lifter_pkl]\n",
    "\n",
    "all_pkl = shop_lifter_pkl + non_shop_lifter_pkl\n",
    "\n",
    "train_files, temp_files = train_test_split(all_pkl, test_size=0.15, random_state=42, shuffle=True)\n",
    "val_files, test_files = train_test_split(temp_files, test_size=0.5, random_state=42, shuffle=True)"
   ]
  },
  {
   "cell_type": "code",
   "execution_count": 7,
   "metadata": {},
   "outputs": [
    {
     "data": {
      "text/plain": [
       "(324, 531)"
      ]
     },
     "execution_count": 7,
     "metadata": {},
     "output_type": "execute_result"
    }
   ],
   "source": [
    "len(shop_lifter_pkl), len(non_shop_lifter_pkl)"
   ]
  },
  {
   "cell_type": "code",
   "execution_count": 8,
   "metadata": {},
   "outputs": [
    {
     "data": {
      "text/plain": [
       "(726, 64, 65)"
      ]
     },
     "execution_count": 8,
     "metadata": {},
     "output_type": "execute_result"
    }
   ],
   "source": [
    "len(train_files), len(val_files), len(test_files)"
   ]
  },
  {
   "cell_type": "code",
   "execution_count": 152,
   "metadata": {},
   "outputs": [],
   "source": [
    "def get_sl_and_nsl(files: List[str]) -> Dict[int,int]:\n",
    "    sl = 0\n",
    "    nsl = 0\n",
    "    for f in files:\n",
    "        if 'non shop lifters' in f:\n",
    "            nsl += 1\n",
    "        else:\n",
    "            sl += 1\n",
    "    print(f'Shop Lifters: {sl}, Non Shop Lifters: {nsl}')\n",
    "    return {\n",
    "        0: nsl,\n",
    "        1: sl\n",
    "    }"
   ]
  },
  {
   "cell_type": "code",
   "execution_count": 153,
   "metadata": {},
   "outputs": [
    {
     "name": "stdout",
     "output_type": "stream",
     "text": [
      "Shop Lifters: 274, Non Shop Lifters: 452\n"
     ]
    }
   ],
   "source": [
    "_ = get_sl_and_nsl(train_files)"
   ]
  },
  {
   "cell_type": "code",
   "execution_count": 154,
   "metadata": {},
   "outputs": [
    {
     "name": "stdout",
     "output_type": "stream",
     "text": [
      "Shop Lifters: 20, Non Shop Lifters: 45\n"
     ]
    }
   ],
   "source": [
    "_ = get_sl_and_nsl(test_files)"
   ]
  },
  {
   "cell_type": "code",
   "execution_count": 155,
   "metadata": {},
   "outputs": [
    {
     "name": "stdout",
     "output_type": "stream",
     "text": [
      "Shop Lifters: 30, Non Shop Lifters: 34\n"
     ]
    }
   ],
   "source": [
    "_ = get_sl_and_nsl(val_files)"
   ]
  },
  {
   "cell_type": "code",
   "execution_count": 163,
   "metadata": {},
   "outputs": [],
   "source": [
    "def calculate_class_weights(files: List[str]) -> Dict[int, float]:\n",
    "    class_weights = {}\n",
    "    class_count = get_sl_and_nsl(files)\n",
    "    total_samples = sum(class_count.values())\n",
    "    for cls, count in class_count.items():\n",
    "        class_weights[cls] = total_samples / count\n",
    "    normalized_class_weights = {}\n",
    "    sum_class_weights = sum(class_weights.values())\n",
    "    for cls, weight in class_weights.items():\n",
    "        normalized_class_weights[cls] = weight / sum_class_weights\n",
    "    return class_weights, normalized_class_weights"
   ]
  },
  {
   "cell_type": "code",
   "execution_count": 164,
   "metadata": {},
   "outputs": [
    {
     "name": "stdout",
     "output_type": "stream",
     "text": [
      "Shop Lifters: 274, Non Shop Lifters: 452\n"
     ]
    }
   ],
   "source": [
    "train_class_weights, normalized_class_weights = calculate_class_weights(train_files)"
   ]
  },
  {
   "cell_type": "code",
   "execution_count": 166,
   "metadata": {},
   "outputs": [
    {
     "data": {
      "text/plain": [
       "({0: 1.6061946902654867, 1: 2.6496350364963503},\n",
       " {0: 0.37741046831955927, 1: 0.6225895316804408})"
      ]
     },
     "execution_count": 166,
     "metadata": {},
     "output_type": "execute_result"
    }
   ],
   "source": [
    "train_class_weights, normalized_class_weights"
   ]
  },
  {
   "cell_type": "code",
   "execution_count": 167,
   "metadata": {},
   "outputs": [],
   "source": [
    "from torch.utils.data import Dataset, DataLoader\n",
    "import torchvision.transforms as T\n",
    "import torch\n",
    "import pickle as pkl\n",
    "import random\n",
    "import numpy as np\n",
    "from PIL import Image\n",
    "\n",
    "\n",
    "def set_seed(seed):\n",
    "    random.seed(seed)\n",
    "    np.random.seed(seed)\n",
    "    torch.manual_seed(seed)\n",
    "    if torch.cuda.is_available():\n",
    "        torch.cuda.manual_seed(seed)\n",
    "        torch.cuda.manual_seed_all(seed)\n",
    "\n",
    "class VideoDataset(Dataset):\n",
    "    def __init__(self, video_files: List[str], max_seq_length: float=500, sampling_interval: int=2, type: str='train', seed: int=42, target_shape: Tuple[int,int]=(224,224)):\n",
    "        self.video_files = video_files\n",
    "        self.max_seq_length = max_seq_length\n",
    "        self.sampling_interval = sampling_interval\n",
    "        self.type = type\n",
    "        self.seed = seed\n",
    "        self.adjusted_max_seq_len = int(self.max_seq_length/self.sampling_interval)\n",
    "        self.transform = T.Compose([\n",
    "            T.Resize(target_shape),\n",
    "            T.Lambda(lambda x: np.array(x, dtype=np.float32) / 255.0),\n",
    "            T.ToTensor()\n",
    "        ])\n",
    "        if type=='train':\n",
    "            self.augment_transforms = T.Compose([\n",
    "                T.RandomHorizontalFlip(),\n",
    "                T.RandomRotation(10),\n",
    "                T.ColorJitter(brightness=0.2, contrast=0.2, saturation=0.2, hue=0.1),\n",
    "                T.RandomResizedCrop(size=target_shape, scale=(0.8, 1.0)),\n",
    "            ])\n",
    "        \n",
    "    def __len__(self):\n",
    "        return len(self.video_files)\n",
    "    \n",
    "    def __getitem__(self, idx):\n",
    "        video_path = self.video_files[idx]\n",
    "        video = pkl.load(open(video_path, 'rb'))\n",
    "        video = [Image.fromarray(frame.astype('uint8')) for frame in video]\n",
    "        label = 0. if 'non shop lifters' in video_path else 1.\n",
    "        set_seed(self.seed + idx)\n",
    "        if self.transform:\n",
    "            video = [self.transform(frame) for frame in video]\n",
    "\n",
    "        if self.type == 'train':\n",
    "            video = [self.augment_transforms(frame) for frame in video]\n",
    "        \n",
    "        video = torch.stack(video)\n",
    "        # print(video.dtype)\n",
    "        # Apply frame sampling here by skipping every other frame\n",
    "        video = video[::self.sampling_interval]\n",
    "\n",
    "        # Truncate or pad the sequence to max_seq_length\n",
    "        if len(video) > self.adjusted_max_seq_len:\n",
    "            video = video[:self.adjusted_max_seq_len]\n",
    "        else:\n",
    "            padding = torch.zeros(self.adjusted_max_seq_len - len(video), *video.shape[1:])\n",
    "            video = torch.cat((video, padding), axis=0)\n",
    "            \n",
    "        \n",
    "        return video , label\n"
   ]
  },
  {
   "cell_type": "code",
   "execution_count": 168,
   "metadata": {},
   "outputs": [],
   "source": [
    "train_dataset = VideoDataset(train_files, type='train', target_shape=(160,160), sampling_interval=10)\n",
    "val_dataset = VideoDataset(val_files, type='val', target_shape=(160,160), sampling_interval=10)\n",
    "test_dataset = VideoDataset(test_files, type='test', target_shape=(160,160), sampling_interval=10)"
   ]
  },
  {
   "cell_type": "code",
   "execution_count": 169,
   "metadata": {},
   "outputs": [
    {
     "name": "stdout",
     "output_type": "stream",
     "text": [
      "torch.Size([50, 3, 160, 160]) 0.0\n"
     ]
    }
   ],
   "source": [
    "for x in train_dataset:\n",
    "    print(x[0].shape, x[1])\n",
    "    break"
   ]
  },
  {
   "cell_type": "code",
   "execution_count": 170,
   "metadata": {},
   "outputs": [],
   "source": [
    "train_dataloader = DataLoader(train_dataset, batch_size=2)\n",
    "val_dataloader = DataLoader(val_dataset, batch_size=1)\n",
    "test_dataloader = DataLoader(test_dataset, batch_size=1)"
   ]
  },
  {
   "cell_type": "code",
   "execution_count": 171,
   "metadata": {},
   "outputs": [
    {
     "name": "stdout",
     "output_type": "stream",
     "text": [
      "torch.Size([2, 50, 3, 160, 160]) tensor([0., 0.], dtype=torch.float64)\n"
     ]
    }
   ],
   "source": [
    "for x in train_dataloader:\n",
    "    print(x[0].shape, x[1])\n",
    "    break"
   ]
  },
  {
   "cell_type": "markdown",
   "metadata": {},
   "source": [
    "# Model"
   ]
  },
  {
   "cell_type": "code",
   "execution_count": 172,
   "metadata": {},
   "outputs": [
    {
     "name": "stdout",
     "output_type": "stream",
     "text": [
      "Conv3DLSTMModel(\n",
      "  (conv3d_block): Sequential(\n",
      "    (0): Conv3d(3, 32, kernel_size=(3, 3, 3), stride=(1, 1, 1), padding=(1, 1, 1))\n",
      "    (1): ReLU()\n",
      "    (2): MaxPool3d(kernel_size=(1, 2, 2), stride=(1, 2, 2), padding=0, dilation=1, ceil_mode=False)\n",
      "    (3): Conv3d(32, 64, kernel_size=(3, 3, 3), stride=(1, 1, 1), padding=(1, 1, 1))\n",
      "    (4): ReLU()\n",
      "    (5): MaxPool3d(kernel_size=(1, 2, 2), stride=(1, 2, 2), padding=0, dilation=1, ceil_mode=False)\n",
      "    (6): Conv3d(64, 128, kernel_size=(3, 3, 3), stride=(1, 1, 1), padding=(1, 1, 1))\n",
      "    (7): ReLU()\n",
      "    (8): MaxPool3d(kernel_size=(2, 2, 2), stride=(2, 2, 2), padding=0, dilation=1, ceil_mode=False)\n",
      "  )\n",
      "  (lstm): LSTM(51200, 256, batch_first=True)\n",
      "  (fc): Linear(in_features=256, out_features=1, bias=True)\n",
      ")\n",
      "torch.Size([8, 1])\n"
     ]
    }
   ],
   "source": [
    "import torch\n",
    "import torch.nn as nn\n",
    "import torch.nn.functional as F\n",
    "\n",
    "class Conv3DLSTMModel(nn.Module):\n",
    "    def __init__(self, num_classes: int=1, hidden_size: int=256, lstm_layers: int=1, bidirectional: bool=False):\n",
    "        super(Conv3DLSTMModel, self).__init__()\n",
    "        \n",
    "        # Conv3D block\n",
    "        self.conv3d_block = nn.Sequential(\n",
    "            nn.Conv3d(in_channels=3, out_channels=32, kernel_size=(3, 3, 3), stride=1, padding=1),\n",
    "            nn.ReLU(),\n",
    "            nn.MaxPool3d(kernel_size=(1, 2, 2)), \n",
    "            nn.Conv3d(in_channels=32, out_channels=64, kernel_size=(3, 3, 3), stride=1, padding=1),\n",
    "            nn.ReLU(),\n",
    "            nn.MaxPool3d(kernel_size=(1, 2, 2)),\n",
    "            nn.Conv3d(in_channels=64, out_channels=128, kernel_size=(3, 3, 3), stride=1, padding=1),\n",
    "            nn.ReLU(),\n",
    "            nn.MaxPool3d(kernel_size=(2, 2, 2)),  \n",
    "        )\n",
    "        self._calculate_spatial_dims(input_shape=(3, 100, 160, 160))\n",
    "        # LSTM block\n",
    "        self.lstm = nn.LSTM(input_size=self.lstm_input_size,  \n",
    "                            hidden_size=hidden_size,\n",
    "                            num_layers=lstm_layers,\n",
    "                            batch_first=True,\n",
    "                            bidirectional=bidirectional)\n",
    "        \n",
    "        # Fully connected layer\n",
    "        lstm_output_size = hidden_size * (2 if bidirectional else 1)\n",
    "        self.fc = nn.Linear(lstm_output_size, num_classes)\n",
    "    \n",
    "    def _calculate_spatial_dims(self, input_shape):\n",
    "        \"\"\"Calculate the spatial dimensions after Conv3D and pooling layers.\"\"\"\n",
    "        x = torch.zeros(1, *input_shape)  # Create a dummy tensor to pass through Conv3D block\n",
    "        x = self.conv3d_block(x)\n",
    "        _, _, t, h, w = x.size()  # Get the output shape\n",
    "        self.lstm_input_size = 128 * h * w  # Update LSTM input size\n",
    "        # print(f\"Adjusted LSTM input size: {self.lstm_input_size}\")\n",
    "\n",
    "    def forward(self, x: torch.Tensor) -> torch.Tensor:\n",
    "        batch_size, seq_len, channels, height, width = x.size()\n",
    "        \n",
    "        # Apply Conv3D block\n",
    "        x = x.permute(0, 2, 1, 3, 4)  # (batch_size, channels, seq_len, height, width)\n",
    "        x = self.conv3d_block(x)  # (batch_size, 128, new_seq_len, new_height, new_width)\n",
    "        \n",
    "        # Prepare for LSTM: flatten spatial dimensions\n",
    "        x = x.view(batch_size, x.size(2), -1)  # (batch_size, new_seq_len, 128*new_height*new_width)\n",
    "        \n",
    "        # Apply LSTM\n",
    "        lstm_out, (h_n, c_n) = self.lstm(x)  # (batch_size, new_seq_len, hidden_size)\n",
    "        \n",
    "        # Get the output from the last time step\n",
    "        final_output = lstm_out[:, -1, :]  # (batch_size, hidden_size)\n",
    "        \n",
    "        # Fully connected layer\n",
    "        output = self.fc(final_output)  # (batch_size, num_classes)\n",
    "        \n",
    "        return output\n",
    "\n",
    "# Example usage:\n",
    "model = Conv3DLSTMModel(num_classes=1)\n",
    "print(model)\n",
    "\n",
    "# Check output with dummy input\n",
    "dummy_input = torch.randn(8, 4, 3, 160, 160)  # Batch size = 8, sequence length = 16, channels = 3, height = 224, width = 224\n",
    "output = model(dummy_input)\n",
    "print(output.shape)  # Should be (8, 2) for batch size of 8 and 2 classes\n"
   ]
  },
  {
   "cell_type": "code",
   "execution_count": 173,
   "metadata": {},
   "outputs": [],
   "source": [
    "import torch\n",
    "\n",
    "class SaveBestModel:\n",
    "    def __init__(self, best_val_loss: float=float('inf'), save_path: str='../models_weights/best_model.pth'):\n",
    "        self.best_val_loss = best_val_loss\n",
    "        self.save_path = save_path\n",
    "\n",
    "    def __call__(self, model: torch.nn.Module, current_val_loss: float, prev_best_min_loss: float):\n",
    "        if current_val_loss < self.best_val_loss and current_val_loss < prev_best_min_loss:\n",
    "            self.best_val_loss = current_val_loss\n",
    "            torch.save(model, self.save_path)\n",
    "            print(f'Best model saved with Val Loss: {self.best_val_loss:.4f}')\n"
   ]
  },
  {
   "cell_type": "code",
   "execution_count": 174,
   "metadata": {},
   "outputs": [],
   "source": [
    "from sklearn.metrics import precision_score, recall_score, f1_score\n",
    "def calculate_metrics(y_true: List[int], y_pred: List[int]) -> Tuple[float]:\n",
    "    precision = precision_score(y_true, y_pred, average='weighted')\n",
    "    recall = recall_score(y_true, y_pred, average='weighted')\n",
    "    f1 = f1_score(y_true, y_pred, average='weighted')\n",
    "    accuracy = 100 * np.sum(y_true == y_pred) / len(y_true)\n",
    "    return accuracy, precision, recall, f1"
   ]
  },
  {
   "cell_type": "code",
   "execution_count": 175,
   "metadata": {},
   "outputs": [],
   "source": [
    "import torch\n",
    "import numpy as np\n",
    "import matplotlib.pyplot as plt\n",
    "import seaborn as sns\n",
    "from sklearn.metrics import confusion_matrix\n",
    "import torch.utils\n",
    "import torch.utils.data\n",
    "from tqdm import tqdm\n",
    "from typing import List, Tuple\n",
    "\n",
    "def evaluate(\n",
    "        dataloader: torch.utils.data.DataLoader, \n",
    "        model: torch.nn.Module, \n",
    "        criterion: torch.nn, \n",
    "        class_names: List[str]=None, \n",
    "        device: str=\"\", \n",
    "        is_testing: bool=False\n",
    "    ) -> Tuple[float]: \n",
    "\n",
    "    if device == \"\":\n",
    "        device = torch.device('cuda' if torch.cuda.is_available() else 'cpu')\n",
    "    else:\n",
    "        device = torch.device(device)\n",
    "\n",
    "    model = model.to(device)\n",
    "    model.eval()\n",
    "    running_loss = 0.0\n",
    "    all_labels = []\n",
    "    all_predictions = []\n",
    "\n",
    "    with torch.no_grad():\n",
    "        for inputs, labels in tqdm(dataloader):\n",
    "            inputs, labels = inputs.to(device), labels.to(device)\n",
    "\n",
    "            outputs = model(inputs)\n",
    "            outputs = outputs.squeeze(-1)\n",
    "            loss = criterion(outputs, labels)\n",
    "\n",
    "            running_loss += loss.item()\n",
    "\n",
    "            predicted = (torch.sigmoid(outputs) >= 0.5).long()\n",
    "            all_labels.extend(labels.cpu().numpy())\n",
    "            all_predictions.extend(predicted.cpu().numpy())\n",
    "\n",
    "    # Calculate average loss\n",
    "    avg_loss = running_loss / len(dataloader)\n",
    "\n",
    "    # Calculate evaluation metrics\n",
    "    accuracy, precision, recall, f1 = calculate_metrics(np.array(all_labels), np.array(all_predictions))\n",
    "\n",
    "    if is_testing:\n",
    "        conf_matrix = confusion_matrix(all_labels, all_predictions)\n",
    "        plt.figure(figsize=(8, 6))\n",
    "        sns.heatmap(conf_matrix, annot=True, fmt='d', cmap='Blues', xticklabels=class_names, yticklabels=class_names)\n",
    "        plt.xlabel('Predicted Label')\n",
    "        plt.ylabel('True Label')\n",
    "        plt.title('Confusion Matrix')\n",
    "        plt.show()\n",
    "\n",
    "        print(f'Average Loss: {avg_loss:.4f}')\n",
    "        print(f'Accuracy: {accuracy:.4f}')\n",
    "        print(f'Precision: {precision:.4f}')\n",
    "        print(f'Recall: {recall:.4f}')\n",
    "        print(f'F1 Score: {f1:.4f}')\n",
    "\n",
    "    return avg_loss, accuracy, precision, recall, f1\n"
   ]
  },
  {
   "cell_type": "code",
   "execution_count": 176,
   "metadata": {},
   "outputs": [],
   "source": [
    "import torch\n",
    "import numpy as np\n",
    "import torch.utils\n",
    "import torch.utils.data\n",
    "from tqdm import tqdm\n",
    "\n",
    "\n",
    "def train(\n",
    "        model: torch.nn.Module, \n",
    "        train_loader: torch.utils.data.DataLoader, \n",
    "        val_loader: torch.utils.data.DataLoader, \n",
    "        criterion: torch.nn, \n",
    "        optimizer: torch.optim, \n",
    "        num_epochs: int=10, \n",
    "        device: str=\"\", \n",
    "        start_epoch: int=0, \n",
    "        scheduler: torch.optim.lr_scheduler=None, \n",
    "        new_lr: float=None,\n",
    "        models_weights_path: str='../models_weights/best_model.pth',\n",
    "        prev_best_min_loss: float=float('inf'),\n",
    "        prev_history: dict=None\n",
    "    ) -> None:\n",
    "\n",
    "    if device == \"\":\n",
    "        device = torch.device('cuda' if torch.cuda.is_available() else 'cpu')\n",
    "    # model = torch.compile(model, backend=\"nvfuser\")\n",
    "    model = model.to(device)\n",
    "    save_best_model = SaveBestModel(save_path=models_weights_path)\n",
    "    if new_lr is not None:\n",
    "        for param_group in optimizer.param_groups:\n",
    "            param_group['lr'] = new_lr\n",
    "    train_losses = []\n",
    "    val_losses = []\n",
    "    train_accuracies = []\n",
    "    val_accuracies = []\n",
    "    for epoch in range(start_epoch, num_epochs):\n",
    "        print(f'Epoch {epoch+1}/{num_epochs}')\n",
    "        print('-' * 10)\n",
    "\n",
    "        # Training phase\n",
    "        model.train()\n",
    "        running_loss = 0.0\n",
    "        all_labels = []\n",
    "        all_predictions = []\n",
    "\n",
    "        for inputs, labels in tqdm(train_loader):\n",
    "            inputs, labels = inputs.to(device), labels.to(device)\n",
    "\n",
    "            optimizer.zero_grad()\n",
    "\n",
    "            outputs = model(inputs)\n",
    "            outputs = outputs.squeeze(-1)\n",
    "            loss = criterion(outputs, labels)\n",
    "\n",
    "            loss.backward()\n",
    "            optimizer.step()\n",
    "\n",
    "            running_loss += loss.item()\n",
    "\n",
    "            predicted = (torch.sigmoid(outputs) >= 0.5).long()\n",
    "            all_labels.extend(labels.cpu().numpy())\n",
    "            all_predictions.extend(predicted.cpu().numpy())\n",
    "\n",
    "        avg_train_loss = running_loss / len(train_loader)\n",
    "\n",
    "        train_losses.append(avg_train_loss)\n",
    "\n",
    "        train_accuracy, train_precision, train_recall, train_f1 = calculate_metrics(np.array(all_labels), np.array(all_predictions))\n",
    "        print(f'Train Loss: {avg_train_loss:.4f}, Accuracy: {train_accuracy:.2f}%, '\n",
    "              f'Precision: {train_precision:.4f}, Recall: {train_recall:.4f}, F1 Score: {train_f1:.4f}')\n",
    "\n",
    "        train_accuracies.append(train_accuracy)\n",
    "        # Validation phase\n",
    "        avg_val_loss, val_accuracy, val_precision, val_recall, val_f1 = evaluate(val_loader, model, criterion)\n",
    "\n",
    "        print(f'Val Loss: {avg_val_loss:.4f}, Accuracy: {val_accuracy:.2f}%, '\n",
    "              f'Precision: {val_precision:.4f}, Recall: {val_recall:.4f}, F1 Score: {val_f1:.4f}')\n",
    "        print(\"-\"*50)\n",
    "\n",
    "        val_losses.append(avg_val_loss)\n",
    "        val_accuracies.append(val_accuracy)\n",
    "        # Save the best model using the callback\n",
    "        save_best_model(model, avg_val_loss, prev_best_min_loss)\n",
    "\n",
    "        # Step the scheduler if it exists\n",
    "        if scheduler is not None:\n",
    "            scheduler.step(avg_val_loss if isinstance(scheduler, torch.optim.lr_scheduler.ReduceLROnPlateau) else None)\n",
    "    print('Finished Training')\n",
    "    history = {\n",
    "        'train_loss': train_losses,\n",
    "        'val_loss': val_losses,\n",
    "        'train_accuracy': train_accuracies,\n",
    "        'val_accuracy': val_accuracies,\n",
    "        \"prev_best_min_loss\": save_best_model.best_val_loss\n",
    "    }\n",
    "    if prev_history is not None:\n",
    "        for key in prev_history.keys():\n",
    "            if key != 'prev_best_min_loss':\n",
    "                history[key] =  prev_history[key] + history[key]\n",
    "    return history"
   ]
  },
  {
   "cell_type": "code",
   "execution_count": 181,
   "metadata": {},
   "outputs": [
    {
     "name": "stdout",
     "output_type": "stream",
     "text": [
      "Shop Lifters: 274, Non Shop Lifters: 452\n",
      "Epoch 1/10\n",
      "----------\n"
     ]
    },
    {
     "name": "stderr",
     "output_type": "stream",
     "text": [
      "  2%|▏         | 7/363 [00:29<25:07,  4.23s/it]\n"
     ]
    },
    {
     "ename": "KeyboardInterrupt",
     "evalue": "",
     "output_type": "error",
     "traceback": [
      "\u001b[1;31m---------------------------------------------------------------------------\u001b[0m",
      "\u001b[1;31mKeyboardInterrupt\u001b[0m                         Traceback (most recent call last)",
      "Cell \u001b[1;32mIn[181], line 13\u001b[0m\n\u001b[0;32m     10\u001b[0m optimizer \u001b[38;5;241m=\u001b[39m optim\u001b[38;5;241m.\u001b[39mAdam(model\u001b[38;5;241m.\u001b[39mparameters(), lr\u001b[38;5;241m=\u001b[39m\u001b[38;5;241m0.001\u001b[39m)\n\u001b[0;32m     11\u001b[0m num_epochs \u001b[38;5;241m=\u001b[39m \u001b[38;5;241m10\u001b[39m\n\u001b[1;32m---> 13\u001b[0m history \u001b[38;5;241m=\u001b[39m \u001b[43mtrain\u001b[49m\u001b[43m(\u001b[49m\u001b[43mmodel\u001b[49m\u001b[43m,\u001b[49m\u001b[43m \u001b[49m\u001b[43mtrain_dataloader\u001b[49m\u001b[43m,\u001b[49m\u001b[43m \u001b[49m\u001b[43mval_dataloader\u001b[49m\u001b[43m,\u001b[49m\u001b[43m \u001b[49m\u001b[43mcriterion\u001b[49m\u001b[43m,\u001b[49m\u001b[43m \u001b[49m\u001b[43moptimizer\u001b[49m\u001b[43m,\u001b[49m\u001b[43m \u001b[49m\u001b[43mnum_epochs\u001b[49m\u001b[38;5;241;43m=\u001b[39;49m\u001b[38;5;241;43m10\u001b[39;49m\u001b[43m,\u001b[49m\u001b[43m \u001b[49m\u001b[43mdevice\u001b[49m\u001b[38;5;241;43m=\u001b[39;49m\u001b[38;5;124;43m'\u001b[39;49m\u001b[38;5;124;43mcuda\u001b[39;49m\u001b[38;5;124;43m'\u001b[39;49m\u001b[43m,\u001b[49m\u001b[43m \u001b[49m\u001b[43mmodels_weights_path\u001b[49m\u001b[38;5;241;43m=\u001b[39;49m\u001b[38;5;124;43m'\u001b[39;49m\u001b[38;5;124;43m../models_weights/best_model.pth\u001b[39;49m\u001b[38;5;124;43m'\u001b[39;49m\u001b[43m)\u001b[49m\n",
      "Cell \u001b[1;32mIn[176], line 58\u001b[0m, in \u001b[0;36mtrain\u001b[1;34m(model, train_loader, val_loader, criterion, optimizer, num_epochs, device, start_epoch, scheduler, new_lr, models_weights_path, prev_best_min_loss, prev_history)\u001b[0m\n\u001b[0;32m     55\u001b[0m loss\u001b[38;5;241m.\u001b[39mbackward()\n\u001b[0;32m     56\u001b[0m optimizer\u001b[38;5;241m.\u001b[39mstep()\n\u001b[1;32m---> 58\u001b[0m running_loss \u001b[38;5;241m+\u001b[39m\u001b[38;5;241m=\u001b[39m \u001b[43mloss\u001b[49m\u001b[38;5;241;43m.\u001b[39;49m\u001b[43mitem\u001b[49m\u001b[43m(\u001b[49m\u001b[43m)\u001b[49m\n\u001b[0;32m     60\u001b[0m predicted \u001b[38;5;241m=\u001b[39m (torch\u001b[38;5;241m.\u001b[39msigmoid(outputs) \u001b[38;5;241m>\u001b[39m\u001b[38;5;241m=\u001b[39m \u001b[38;5;241m0.5\u001b[39m)\u001b[38;5;241m.\u001b[39mlong()\n\u001b[0;32m     61\u001b[0m all_labels\u001b[38;5;241m.\u001b[39mextend(labels\u001b[38;5;241m.\u001b[39mcpu()\u001b[38;5;241m.\u001b[39mnumpy())\n",
      "\u001b[1;31mKeyboardInterrupt\u001b[0m: "
     ]
    }
   ],
   "source": [
    "import torch.optim as optim\n",
    "\n",
    "model = Conv3DLSTMModel(num_classes=1)\n",
    "device = torch.device('cuda' if torch.cuda.is_available() else 'cpu')\n",
    "model = model.to(device)\n",
    "\n",
    "train_class_weights, normalized_class_weights = calculate_class_weights(train_files)\n",
    "pos_weight = torch.tensor([normalized_class_weights[1]],dtype=torch.float32).to(device)\n",
    "criterion = nn.BCEWithLogitsLoss(pos_weight=pos_weight)\n",
    "optimizer = optim.Adam(model.parameters(), lr=0.001)\n",
    "num_epochs = 10\n",
    "\n",
    "history = train(model, train_dataloader, val_dataloader, criterion, optimizer, num_epochs=10, device='cuda', models_weights_path='../models_weights/best_model.pth')"
   ]
  },
  {
   "cell_type": "code",
   "execution_count": 182,
   "metadata": {},
   "outputs": [
    {
     "name": "stderr",
     "output_type": "stream",
     "text": [
      "100%|██████████| 65/65 [00:56<00:00,  1.14it/s]\n"
     ]
    },
    {
     "data": {
      "image/png": "[encoded data removed]",
      "text/plain": [
       "<Figure size 800x600 with 2 Axes>"
      ]
     },
     "metadata": {},
     "output_type": "display_data"
    },
    {
     "name": "stdout",
     "output_type": "stream",
     "text": [
      "Average Loss: 0.4624\n",
      "Accuracy: 69.2308\n",
      "Precision: 0.4793\n",
      "Recall: 0.6923\n",
      "F1 Score: 0.5664\n"
     ]
    },
    {
     "data": {
      "text/plain": [
       "(0.46240345881535455,\n",
       " 69.23076923076923,\n",
       " 0.47928994082840237,\n",
       " 0.6923076923076923,\n",
       " 0.5664335664335663)"
      ]
     },
     "execution_count": 182,
     "metadata": {},
     "output_type": "execute_result"
    }
   ],
   "source": [
    "evaluate(test_dataloader, model, criterion, class_names=['Non Shop Lifters', 'Shop Lifters'], device='cuda', is_testing=True)"
   ]
  },
  {
   "cell_type": "code",
   "execution_count": null,
   "metadata": {},
   "outputs": [],
   "source": []
  }
 ],
 "metadata": {
  "kernelspec": {
   "display_name": "pytorch-env",
   "language": "python",
   "name": "python3"
  },
  "language_info": {
   "codemirror_mode": {
    "name": "ipython",
    "version": 3
   },
   "file_extension": ".py",
   "mimetype": "text/x-python",
   "name": "python",
   "nbconvert_exporter": "python",
   "pygments_lexer": "ipython3",
   "version": "3.8.5"
  }
 },
 "nbformat": 4,
 "nbformat_minor": 2
}
