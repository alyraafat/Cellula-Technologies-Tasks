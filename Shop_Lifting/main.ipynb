{
 "cells": [
  {
   "cell_type": "code",
   "execution_count": 1,
   "metadata": {},
   "outputs": [],
   "source": [
    "import os\n",
    "import cv2\n",
    "import numpy as np\n",
    "from moviepy.editor import VideoFileClip\n",
    "from tqdm.notebook import tqdm\n",
    "from typing import List, Tuple, Dict, Union\n",
    "import matplotlib.pyplot as plt\n",
    "import pickle as pkl"
   ]
  },
  {
   "cell_type": "markdown",
   "metadata": {},
   "source": [
    "# Preprocessing Data"
   ]
  },
  {
   "cell_type": "code",
   "execution_count": 2,
   "metadata": {},
   "outputs": [],
   "source": [
    "dataset_path = 'Shop DataSet/'\n",
    "non_shop_lifters_path = os.path.join(dataset_path, 'non shop lifters')\n",
    "shop_lifters_path = os.path.join(dataset_path, 'shop lifters')\n"
   ]
  },
  {
   "cell_type": "code",
   "execution_count": 3,
   "metadata": {},
   "outputs": [
    {
     "data": {
      "text/plain": [
       "(531, 324)"
      ]
     },
     "execution_count": 3,
     "metadata": {},
     "output_type": "execute_result"
    }
   ],
   "source": [
    "len(os.listdir(non_shop_lifters_path)), len(os.listdir(shop_lifters_path))"
   ]
  },
  {
   "cell_type": "code",
   "execution_count": 35,
   "metadata": {},
   "outputs": [],
   "source": [
    "def get_frame_rate(video_path):\n",
    "    # Open the video file\n",
    "    video = cv2.VideoCapture(video_path)\n",
    "    \n",
    "    # Check if the video was opened successfully\n",
    "    if not video.isOpened():\n",
    "        print(f\"Error: Cannot open video file {video_path}\")\n",
    "        return None\n",
    "    \n",
    "    # Get the frame rate\n",
    "    fps = video.get(cv2.CAP_PROP_FPS)\n",
    "    \n",
    "    # Release the video object\n",
    "    video.release()\n",
    "    \n",
    "    return fps"
   ]
  },
  {
   "cell_type": "code",
   "execution_count": 40,
   "metadata": {},
   "outputs": [
    {
     "data": {
      "text/plain": [
       "25.0"
      ]
     },
     "execution_count": 40,
     "metadata": {},
     "output_type": "execute_result"
    }
   ],
   "source": [
    "get_frame_rate('./Shop DataSet/non shop lifters/shop_lifter_n_1.mp4')"
   ]
  },
  {
   "cell_type": "code",
   "execution_count": 39,
   "metadata": {},
   "outputs": [
    {
     "data": {
      "text/plain": [
       "24.75"
      ]
     },
     "execution_count": 39,
     "metadata": {},
     "output_type": "execute_result"
    }
   ],
   "source": [
    "get_frame_rate('./Shop DataSet/shop lifters/shop_lifter_10.mp4')"
   ]
  },
  {
   "cell_type": "code",
   "execution_count": 5,
   "metadata": {},
   "outputs": [],
   "source": [
    "def process_and_extract_frames(\n",
    "        dataset_path: str, \n",
    "        new_dir_path: str='./Shop DataSet/preprocessed_data', \n",
    "        target_shape: Tuple[int,int]=(224,224),\n",
    "        sample_rate: int=1):\n",
    "    \"\"\"\n",
    "    Processes and extracts frames from videos in the dataset path.\n",
    "\n",
    "    Parameters:\n",
    "    - dataset_path (str): Path to the folder containing video files.\n",
    "    - new_dir_path (str): Path to save the processed .npy files. Default is './Shop DataSet/preprocessed_data'.\n",
    "    - target_shape (tuple): Desired frame size for resizing. Default is (224, 224).\n",
    "    - sample_rate (int): Interval to sample frames. Default is 1 (every frame).\n",
    "\n",
    "    \"\"\"\n",
    "    new_path = os.path.join(new_dir_path, dataset_path.split('/')[-1])\n",
    "    os.makedirs(new_path, exist_ok=True)\n",
    "    for video in tqdm(os.listdir(dataset_path)):\n",
    "        video_path = os.path.join(dataset_path, video)\n",
    "        cap = cv2.VideoCapture(video_path)\n",
    "        frames = []\n",
    "        frame_count = 0\n",
    "        while True:\n",
    "            ret, frame = cap.read()\n",
    "            if not ret:\n",
    "                break\n",
    "            if frame_count % sample_rate == 0:\n",
    "                frame = cv2.resize(frame, target_shape)\n",
    "                frame = cv2.cvtColor(frame, cv2.COLOR_BGR2RGB)\n",
    "                frames.append(frame)\n",
    "            frame_count += 1\n",
    "        cap.release()\n",
    "        frames = np.array(frames)\n",
    "        output_filename = f\"{video.split('.')[0]}.pkl\"\n",
    "        # np.savez_compressed(os.path.join(new_path, output_filename), frames)\n",
    "        # save as pkl file\n",
    "        pkl.dump(frames, open(os.path.join(new_path, output_filename), 'wb'))\n"
   ]
  },
  {
   "cell_type": "code",
   "execution_count": 11,
   "metadata": {},
   "outputs": [
    {
     "data": {
      "application/vnd.jupyter.widget-view+json": {
       "model_id": "977061b71ae8496d91714986acc95c23",
       "version_major": 2,
       "version_minor": 0
      },
      "text/plain": [
       "  0%|          | 0/324 [00:00<?, ?it/s]"
      ]
     },
     "metadata": {},
     "output_type": "display_data"
    }
   ],
   "source": [
    "process_and_extract_frames(shop_lifters_path)"
   ]
  },
  {
   "cell_type": "code",
   "execution_count": 12,
   "metadata": {},
   "outputs": [
    {
     "data": {
      "application/vnd.jupyter.widget-view+json": {
       "model_id": "91f973ce6b694c95bb71531022d072c2",
       "version_major": 2,
       "version_minor": 0
      },
      "text/plain": [
       "  0%|          | 0/531 [00:00<?, ?it/s]"
      ]
     },
     "metadata": {},
     "output_type": "display_data"
    }
   ],
   "source": [
    "process_and_extract_frames(non_shop_lifters_path)"
   ]
  },
  {
   "cell_type": "code",
   "execution_count": 16,
   "metadata": {},
   "outputs": [
    {
     "data": {
      "text/plain": [
       "(322, 224, 224, 3)"
      ]
     },
     "execution_count": 16,
     "metadata": {},
     "output_type": "execute_result"
    }
   ],
   "source": [
    "sample_video = pkl.load(open('./Shop DataSet/preprocessed_data/shop lifters/shop_lifter_0.pkl', 'rb'))\n",
    "sample_video.shape"
   ]
  },
  {
   "cell_type": "code",
   "execution_count": 21,
   "metadata": {},
   "outputs": [],
   "source": [
    "def get_seq_len(dataset_path: str) -> Tuple[int,int]:\n",
    "    min_seq_len = float('inf')\n",
    "    max_seq_len = float('-inf')\n",
    "    all_seq_len = []\n",
    "    for video_path in tqdm(os.listdir(dataset_path)):\n",
    "        video = pkl.load(open(os.path.join(dataset_path, video_path), 'rb'))\n",
    "        min_seq_len = min(min_seq_len, video.shape[0])\n",
    "        max_seq_len = max(max_seq_len, video.shape[0])\n",
    "        all_seq_len.append(video.shape[0])\n",
    "    return min_seq_len, max_seq_len, all_seq_len"
   ]
  },
  {
   "cell_type": "code",
   "execution_count": 22,
   "metadata": {},
   "outputs": [
    {
     "data": {
      "application/vnd.jupyter.widget-view+json": {
       "model_id": "4b72aac2374042d5977fa6806853d7a2",
       "version_major": 2,
       "version_minor": 0
      },
      "text/plain": [
       "  0%|          | 0/324 [00:00<?, ?it/s]"
      ]
     },
     "metadata": {},
     "output_type": "display_data"
    }
   ],
   "source": [
    "min_sl_seq_len, max_sl_seq_len, all_sl_seq_len = get_seq_len('./Shop DataSet/preprocessed_data/shop lifters')"
   ]
  },
  {
   "cell_type": "code",
   "execution_count": 23,
   "metadata": {},
   "outputs": [
    {
     "data": {
      "text/plain": [
       "(100, 570)"
      ]
     },
     "execution_count": 23,
     "metadata": {},
     "output_type": "execute_result"
    }
   ],
   "source": [
    "min_sl_seq_len, max_sl_seq_len"
   ]
  },
  {
   "cell_type": "code",
   "execution_count": 24,
   "metadata": {},
   "outputs": [
    {
     "data": {
      "application/vnd.jupyter.widget-view+json": {
       "model_id": "7a378aa6fa3e4f33aa9a38b15bce5d87",
       "version_major": 2,
       "version_minor": 0
      },
      "text/plain": [
       "  0%|          | 0/531 [00:00<?, ?it/s]"
      ]
     },
     "metadata": {},
     "output_type": "display_data"
    }
   ],
   "source": [
    "min_nsl_seq_len, max_nsl_seq_len, all_nsl_seq_len = get_seq_len('./Shop DataSet/preprocessed_data/non shop lifters')"
   ]
  },
  {
   "cell_type": "code",
   "execution_count": 25,
   "metadata": {},
   "outputs": [
    {
     "data": {
      "text/plain": [
       "(75, 1850)"
      ]
     },
     "execution_count": 25,
     "metadata": {},
     "output_type": "execute_result"
    }
   ],
   "source": [
    "min_nsl_seq_len, max_nsl_seq_len"
   ]
  },
  {
   "cell_type": "code",
   "execution_count": 26,
   "metadata": {},
   "outputs": [],
   "source": [
    "all_seq_len = all_sl_seq_len + all_nsl_seq_len\n",
    "all_seq_len = np.array(all_seq_len)"
   ]
  },
  {
   "cell_type": "code",
   "execution_count": 27,
   "metadata": {},
   "outputs": [
    {
     "data": {
      "image/png": "[encoded data removed]",
      "text/plain": [
       "<Figure size 1000x600 with 1 Axes>"
      ]
     },
     "metadata": {},
     "output_type": "display_data"
    }
   ],
   "source": [
    "plt.figure(figsize=(10, 6))\n",
    "plt.hist(all_seq_len, bins=30, color='skyblue', edgecolor='black')\n",
    "plt.title('Distribution of Video Sequence Lengths')\n",
    "plt.xlabel('Sequence Length')\n",
    "plt.ylabel('Number of Videos')\n",
    "plt.grid(True)\n",
    "plt.show()"
   ]
  },
  {
   "cell_type": "code",
   "execution_count": 28,
   "metadata": {},
   "outputs": [
    {
     "data": {
      "text/plain": [
       "(75, 1850)"
      ]
     },
     "execution_count": 28,
     "metadata": {},
     "output_type": "execute_result"
    }
   ],
   "source": [
    "all_seq_len.min(), all_seq_len.max()"
   ]
  },
  {
   "cell_type": "code",
   "execution_count": 29,
   "metadata": {},
   "outputs": [
    {
     "data": {
      "text/plain": [
       "500.0"
      ]
     },
     "execution_count": 29,
     "metadata": {},
     "output_type": "execute_result"
    }
   ],
   "source": [
    "np.percentile(a=all_seq_len, q=97)"
   ]
  },
  {
   "cell_type": "markdown",
   "metadata": {},
   "source": [
    "# Prepare Dataset"
   ]
  },
  {
   "cell_type": "code",
   "execution_count": 1,
   "metadata": {},
   "outputs": [
    {
     "name": "stdout",
     "output_type": "stream",
     "text": [
      "Training set: 439 files, 275 shop lifters, 164 non-shop lifters\n",
      "Validation set: 39 files, 25 shop lifters, 14 non-shop lifters\n",
      "Test set: 39 files, 24 shop lifters, 15 non-shop lifters\n"
     ]
    }
   ],
   "source": [
    "from sklearn.model_selection import train_test_split\n",
    "import os\n",
    "shop_lifter_pkl = os.listdir('./Shop DataSet/preprocessed_data/shop lifters')\n",
    "non_shop_lifter_pkl = os.listdir('./Shop DataSet/preprocessed_data/non shop lifters')\n",
    "non_shop_lifter_pkl = [file for file in non_shop_lifter_pkl if ('_1' not in file) or (file == 'shop_lifter_n_1.pkl')]\n",
    "\n",
    "shop_lifter_pkl = [f'./Shop DataSet/preprocessed_data/shop lifters/{file}' for file in shop_lifter_pkl]\n",
    "non_shop_lifter_pkl = [f'./Shop DataSet/preprocessed_data/non shop lifters/{file}' for file in non_shop_lifter_pkl]\n",
    "\n",
    "all_pkl = shop_lifter_pkl + non_shop_lifter_pkl\n",
    "labels = [1] * len(shop_lifter_pkl) + [0] * len(non_shop_lifter_pkl)\n",
    "\n",
    "train_files, temp_files, train_labels, temp_labels = train_test_split(\n",
    "    all_pkl, labels, test_size=0.15, random_state=42, shuffle=True, stratify=labels\n",
    ")\n",
    "\n",
    "# Split the temporary set into validation and test set with stratification\n",
    "val_files, test_files, val_labels, test_labels = train_test_split(\n",
    "    temp_files, temp_labels, test_size=0.5, random_state=42, shuffle=True, stratify=temp_labels\n",
    ")\n",
    "\n",
    "# Print the count of each class in each set for verification\n",
    "print(f'Training set: {len(train_files)} files, {sum(train_labels)} shop lifters, {len(train_labels) - sum(train_labels)} non-shop lifters')\n",
    "print(f'Validation set: {len(val_files)} files, {sum(val_labels)} shop lifters, {len(val_labels) - sum(val_labels)} non-shop lifters')\n",
    "print(f'Test set: {len(test_files)} files, {sum(test_labels)} shop lifters, {len(test_labels) - sum(test_labels)} non-shop lifters')"
   ]
  },
  {
   "cell_type": "code",
   "execution_count": 2,
   "metadata": {},
   "outputs": [
    {
     "name": "stdout",
     "output_type": "stream",
     "text": [
      "Balanced Training set: 328 files, 164 shop lifters, 164 non-shop lifters\n"
     ]
    }
   ],
   "source": [
    "import numpy as np\n",
    "from sklearn.utils import resample\n",
    "\n",
    "# Separate the training files and labels into the two classes\n",
    "shop_lifter_train = [file for file, label in zip(train_files, train_labels) if label == 1]\n",
    "non_shop_lifter_train = [file for file, label in zip(train_files, train_labels) if label == 0]\n",
    "\n",
    "# Undersample the non-shop lifters to match the number of shop lifters\n",
    "shop_lifter_train_balanced = resample(shop_lifter_train,\n",
    "                                          replace=False,\n",
    "                                          n_samples=len(non_shop_lifter_train),\n",
    "                                          random_state=42)\n",
    "\n",
    "# Combine the balanced datasets\n",
    "train_files_balanced = shop_lifter_train_balanced + non_shop_lifter_train\n",
    "train_files_balanced = np.array(train_files_balanced)\n",
    "shuffled_indices = np.random.permutation(len(train_files_balanced))\n",
    "train_files_balanced = train_files_balanced[shuffled_indices].tolist()\n",
    "\n",
    "# Print the balanced training set counts\n",
    "print(f'Balanced Training set: {len(train_files_balanced)} files, '\n",
    "      f'{len(shop_lifter_train_balanced)} shop lifters, '\n",
    "      f'{len(non_shop_lifter_train)} non-shop lifters')\n"
   ]
  },
  {
   "cell_type": "code",
   "execution_count": 3,
   "metadata": {},
   "outputs": [
    {
     "data": {
      "text/plain": [
       "(324, 193)"
      ]
     },
     "execution_count": 3,
     "metadata": {},
     "output_type": "execute_result"
    }
   ],
   "source": [
    "len(shop_lifter_pkl), len(non_shop_lifter_pkl)"
   ]
  },
  {
   "cell_type": "code",
   "execution_count": 4,
   "metadata": {},
   "outputs": [
    {
     "data": {
      "text/plain": [
       "(328, 39, 39)"
      ]
     },
     "execution_count": 4,
     "metadata": {},
     "output_type": "execute_result"
    }
   ],
   "source": [
    "len(train_files_balanced), len(val_files), len(test_files)"
   ]
  },
  {
   "cell_type": "code",
   "execution_count": 5,
   "metadata": {},
   "outputs": [],
   "source": [
    "from typing import List, Dict\n",
    "def get_sl_and_nsl(files: List[str]) -> Dict[int,int]:\n",
    "    sl = 0\n",
    "    nsl = 0\n",
    "    for f in files:\n",
    "        if 'non shop lifters' in f:\n",
    "            nsl += 1\n",
    "        else:\n",
    "            sl += 1\n",
    "    print(f'Shop Lifters: {sl}, Non Shop Lifters: {nsl}')\n",
    "    return {\n",
    "        0: nsl,\n",
    "        1: sl\n",
    "    }"
   ]
  },
  {
   "cell_type": "code",
   "execution_count": 6,
   "metadata": {},
   "outputs": [
    {
     "name": "stdout",
     "output_type": "stream",
     "text": [
      "Shop Lifters: 164, Non Shop Lifters: 164\n"
     ]
    }
   ],
   "source": [
    "_ = get_sl_and_nsl(train_files_balanced)"
   ]
  },
  {
   "cell_type": "code",
   "execution_count": 7,
   "metadata": {},
   "outputs": [
    {
     "name": "stdout",
     "output_type": "stream",
     "text": [
      "Shop Lifters: 24, Non Shop Lifters: 15\n"
     ]
    }
   ],
   "source": [
    "_ = get_sl_and_nsl(test_files)"
   ]
  },
  {
   "cell_type": "code",
   "execution_count": 8,
   "metadata": {},
   "outputs": [
    {
     "name": "stdout",
     "output_type": "stream",
     "text": [
      "Shop Lifters: 25, Non Shop Lifters: 14\n"
     ]
    }
   ],
   "source": [
    "_ = get_sl_and_nsl(val_files)"
   ]
  },
  {
   "cell_type": "code",
   "execution_count": 9,
   "metadata": {},
   "outputs": [],
   "source": [
    "def calculate_class_weights(files: List[str]) -> Dict[int, float]:\n",
    "    class_weights = {}\n",
    "    class_count = get_sl_and_nsl(files)\n",
    "    total_samples = sum(class_count.values())\n",
    "    for cls, count in class_count.items():\n",
    "        class_weights[cls] = total_samples / count\n",
    "    normalized_class_weights = {}\n",
    "    sum_class_weights = sum(class_weights.values())\n",
    "    for cls, weight in class_weights.items():\n",
    "        normalized_class_weights[cls] = weight / sum_class_weights\n",
    "    return class_weights, normalized_class_weights"
   ]
  },
  {
   "cell_type": "code",
   "execution_count": 10,
   "metadata": {},
   "outputs": [
    {
     "name": "stdout",
     "output_type": "stream",
     "text": [
      "Shop Lifters: 164, Non Shop Lifters: 164\n"
     ]
    }
   ],
   "source": [
    "train_class_weights, normalized_class_weights = calculate_class_weights(train_files_balanced)"
   ]
  },
  {
   "cell_type": "code",
   "execution_count": 11,
   "metadata": {},
   "outputs": [
    {
     "data": {
      "text/plain": [
       "({0: 2.0, 1: 2.0}, {0: 0.5, 1: 0.5})"
      ]
     },
     "execution_count": 11,
     "metadata": {},
     "output_type": "execute_result"
    }
   ],
   "source": [
    "train_class_weights, normalized_class_weights"
   ]
  },
  {
   "cell_type": "code",
   "execution_count": 12,
   "metadata": {},
   "outputs": [],
   "source": [
    "from torch.utils.data import Dataset, DataLoader\n",
    "import torchvision.transforms as T\n",
    "import torch\n",
    "import pickle as pkl\n",
    "import random\n",
    "import numpy as np\n",
    "from PIL import Image\n",
    "from typing import Tuple, List, Dict\n",
    "\n",
    "\n",
    "def set_seed(seed):\n",
    "    random.seed(seed)\n",
    "    np.random.seed(seed)\n",
    "    torch.manual_seed(seed)\n",
    "    if torch.cuda.is_available():\n",
    "        torch.cuda.manual_seed(seed)\n",
    "        torch.cuda.manual_seed_all(seed)\n",
    "\n",
    "class VideoDataset(Dataset):\n",
    "    def __init__(self, video_files: List[str], max_seq_length: float=500, sampling_interval: int=2, type: str='train', seed: int=42, target_shape: Tuple[int,int]=(224,224)):\n",
    "        self.video_files = video_files\n",
    "        self.max_seq_length = max_seq_length\n",
    "        self.sampling_interval = sampling_interval\n",
    "        self.type = type\n",
    "        self.seed = seed\n",
    "        self.adjusted_max_seq_len = int(self.max_seq_length/self.sampling_interval)\n",
    "        self.transform = T.Compose([\n",
    "            T.Resize(target_shape),\n",
    "            T.Lambda(lambda x: np.array(x, dtype=np.float32) / 255.0),\n",
    "            T.ToTensor()\n",
    "        ])\n",
    "        if type=='train':\n",
    "            self.augment_transforms = T.Compose([\n",
    "                T.RandomHorizontalFlip(),\n",
    "                T.RandomRotation(10),\n",
    "                T.ColorJitter(brightness=0.2, contrast=0.2, saturation=0.2, hue=0.1),\n",
    "                T.RandomResizedCrop(size=target_shape, scale=(0.8, 1.0)),\n",
    "            ])\n",
    "        \n",
    "    def __len__(self):\n",
    "        return len(self.video_files)\n",
    "    \n",
    "    def __getitem__(self, idx):\n",
    "        video_path = self.video_files[idx]\n",
    "        video = pkl.load(open(video_path, 'rb'))\n",
    "        video = [Image.fromarray(frame.astype('uint8')) for frame in video]\n",
    "        label = 0. if 'non shop lifters' in video_path else 1.\n",
    "        set_seed(self.seed + idx)\n",
    "        if self.transform:\n",
    "            video = [self.transform(frame) for frame in video]\n",
    "\n",
    "        if self.type == 'train':\n",
    "            video = [self.augment_transforms(frame) for frame in video]\n",
    "        \n",
    "        video = torch.stack(video)\n",
    "        # print(video.dtype)\n",
    "        # Apply frame sampling here by skipping every other frame\n",
    "        video = video[::self.sampling_interval]\n",
    "\n",
    "        # Truncate or pad the sequence to max_seq_length\n",
    "        if len(video) > self.adjusted_max_seq_len:\n",
    "            video = video[:self.adjusted_max_seq_len]\n",
    "        else:\n",
    "            padding = torch.zeros(self.adjusted_max_seq_len - len(video), *video.shape[1:])\n",
    "            video = torch.cat((video, padding), axis=0)\n",
    "            \n",
    "        \n",
    "        return video , label\n"
   ]
  },
  {
   "cell_type": "code",
   "execution_count": 13,
   "metadata": {},
   "outputs": [],
   "source": [
    "target_shape = (64,64)\n",
    "train_dataset = VideoDataset(train_files_balanced, type='train', target_shape=target_shape, sampling_interval=25)\n",
    "val_dataset = VideoDataset(val_files, type='val', target_shape=target_shape, sampling_interval=25)\n",
    "test_dataset = VideoDataset(test_files, type='test', target_shape=target_shape, sampling_interval=25)"
   ]
  },
  {
   "cell_type": "code",
   "execution_count": 14,
   "metadata": {},
   "outputs": [
    {
     "name": "stdout",
     "output_type": "stream",
     "text": [
      "torch.Size([20, 3, 64, 64]) 0.0\n"
     ]
    }
   ],
   "source": [
    "for x in train_dataset:\n",
    "    print(x[0].shape, x[1])\n",
    "    break"
   ]
  },
  {
   "cell_type": "code",
   "execution_count": 15,
   "metadata": {},
   "outputs": [],
   "source": [
    "train_dataloader = DataLoader(train_dataset, batch_size=8)\n",
    "val_dataloader = DataLoader(val_dataset, batch_size=1)\n",
    "test_dataloader = DataLoader(test_dataset, batch_size=1)"
   ]
  },
  {
   "cell_type": "code",
   "execution_count": 16,
   "metadata": {},
   "outputs": [
    {
     "name": "stdout",
     "output_type": "stream",
     "text": [
      "torch.Size([8, 20, 3, 64, 64]) tensor([0., 0., 0., 0., 0., 0., 1., 1.], dtype=torch.float64)\n"
     ]
    }
   ],
   "source": [
    "for x in train_dataloader:\n",
    "    print(x[0].shape, x[1])\n",
    "    break"
   ]
  },
  {
   "cell_type": "markdown",
   "metadata": {},
   "source": [
    "# Model"
   ]
  },
  {
   "cell_type": "code",
   "execution_count": 17,
   "metadata": {},
   "outputs": [
    {
     "name": "stdout",
     "output_type": "stream",
     "text": [
      "Conv3DLSTMModel(\n",
      "  (conv3d_block): Sequential(\n",
      "    (0): Conv3d(3, 32, kernel_size=(3, 3, 3), stride=(1, 1, 1), padding=(1, 1, 1))\n",
      "    (1): ReLU()\n",
      "    (2): Dropout(p=0.2, inplace=False)\n",
      "    (3): MaxPool3d(kernel_size=(1, 2, 2), stride=(1, 2, 2), padding=0, dilation=1, ceil_mode=False)\n",
      "    (4): Conv3d(32, 64, kernel_size=(3, 3, 3), stride=(1, 1, 1), padding=(1, 1, 1))\n",
      "    (5): ReLU()\n",
      "    (6): Dropout(p=0.2, inplace=False)\n",
      "    (7): MaxPool3d(kernel_size=(1, 2, 2), stride=(1, 2, 2), padding=0, dilation=1, ceil_mode=False)\n",
      "    (8): Conv3d(64, 128, kernel_size=(3, 3, 3), stride=(1, 1, 1), padding=(1, 1, 1))\n",
      "    (9): ReLU()\n",
      "    (10): Dropout(p=0.2, inplace=False)\n",
      "    (11): MaxPool3d(kernel_size=(2, 2, 2), stride=(2, 2, 2), padding=0, dilation=1, ceil_mode=False)\n",
      "  )\n",
      "  (lstm): LSTM(8192, 256, batch_first=True)\n",
      "  (fc): Linear(in_features=256, out_features=512, bias=True)\n",
      "  (classifier): Linear(in_features=512, out_features=1, bias=True)\n",
      ")\n",
      "torch.Size([4, 1])\n"
     ]
    }
   ],
   "source": [
    "import torch\n",
    "import torch.nn as nn\n",
    "import torch.nn.functional as F\n",
    "\n",
    "class Conv3DLSTMModel(nn.Module):\n",
    "    def __init__(self, num_classes: int=1, hidden_size: int=256, lstm_layers: int=1, bidirectional: bool=False, vid_shape: Tuple[int,int,int]=(25,*target_shape)):\n",
    "        super(Conv3DLSTMModel, self).__init__()\n",
    "        \n",
    "        # Conv3D block\n",
    "        self.conv3d_block = nn.Sequential(\n",
    "            nn.Conv3d(in_channels=3, out_channels=32, kernel_size=(3, 3, 3), stride=1, padding=1),\n",
    "            nn.ReLU(),\n",
    "            nn.Dropout(0.2),\n",
    "            nn.MaxPool3d(kernel_size=(1, 2, 2)), \n",
    "            nn.Conv3d(in_channels=32, out_channels=64, kernel_size=(3, 3, 3), stride=1, padding=1),\n",
    "            nn.ReLU(),\n",
    "            nn.Dropout(0.2),\n",
    "            nn.MaxPool3d(kernel_size=(1, 2, 2)),\n",
    "            nn.Conv3d(in_channels=64, out_channels=128, kernel_size=(3, 3, 3), stride=1, padding=1),\n",
    "            nn.ReLU(),\n",
    "            nn.Dropout(0.2),\n",
    "            nn.MaxPool3d(kernel_size=(2, 2, 2)),  \n",
    "        )\n",
    "        self._calculate_spatial_dims(input_shape=(3, *vid_shape))\n",
    "        # LSTM block\n",
    "        self.lstm = nn.LSTM(input_size=self.lstm_input_size,  \n",
    "                            hidden_size=hidden_size,\n",
    "                            num_layers=lstm_layers,\n",
    "                            batch_first=True,\n",
    "                            bidirectional=bidirectional)\n",
    "        \n",
    "        # Fully connected layer\n",
    "        lstm_output_size = hidden_size * (2 if bidirectional else 1)\n",
    "        self.fc = nn.Linear(lstm_output_size, 512)\n",
    "        self.classifier = nn.Linear(512, num_classes)\n",
    "    \n",
    "    def _calculate_spatial_dims(self, input_shape):\n",
    "        \"\"\"Calculate the spatial dimensions after Conv3D and pooling layers.\"\"\"\n",
    "        x = torch.zeros(1, *input_shape)  # Create a dummy tensor to pass through Conv3D block\n",
    "        x = self.conv3d_block(x)\n",
    "        _, _, t, h, w = x.size()  # Get the output shape\n",
    "        self.lstm_input_size = 128 * h * w  # Update LSTM input size\n",
    "        # print(f\"Adjusted LSTM input size: {self.lstm_input_size}\")\n",
    "\n",
    "    def forward(self, x: torch.Tensor) -> torch.Tensor:\n",
    "        batch_size, seq_len, channels, height, width = x.size()\n",
    "        \n",
    "        # Apply Conv3D block\n",
    "        x = x.permute(0, 2, 1, 3, 4)  # (batch_size, channels, seq_len, height, width)\n",
    "        x = self.conv3d_block(x)  # (batch_size, 128, new_seq_len, new_height, new_width)\n",
    "        \n",
    "        # Prepare for LSTM: flatten spatial dimensions\n",
    "        x = x.view(batch_size, x.size(2), -1)  # (batch_size, new_seq_len, 128*new_height*new_width)\n",
    "        \n",
    "        # Apply LSTM\n",
    "        lstm_out, _ = self.lstm(x)  # (batch_size, new_seq_len, hidden_size)\n",
    "        \n",
    "        # Get the output from the last time step\n",
    "        last_output_layer = lstm_out[:, -1, :]  # (batch_size, hidden_size)\n",
    "        \n",
    "        # Fully connected layer\n",
    "        output = F.relu(self.fc(last_output_layer))  # (batch_size, 512)\n",
    "        output = self.classifier(output)  # (batch_size, num_classes)\n",
    "        \n",
    "        return output\n",
    "\n",
    "# Example usage:\n",
    "model = Conv3DLSTMModel(num_classes=1)\n",
    "print(model)\n",
    "\n",
    "# Check output with dummy input\n",
    "dummy_input = torch.randn(4, 25, 3, 64, 64)\n",
    "output = model(dummy_input)\n",
    "print(output.shape)\n"
   ]
  },
  {
   "cell_type": "code",
   "execution_count": 18,
   "metadata": {},
   "outputs": [
    {
     "name": "stdout",
     "output_type": "stream",
     "text": [
      "Conv3DModel(\n",
      "  (conv3d_block): Sequential(\n",
      "    (0): Conv3d(3, 32, kernel_size=(3, 3, 3), stride=(1, 1, 1), padding=(1, 1, 1))\n",
      "    (1): ReLU()\n",
      "    (2): Dropout(p=0.2, inplace=False)\n",
      "    (3): MaxPool3d(kernel_size=(1, 2, 2), stride=(1, 2, 2), padding=0, dilation=1, ceil_mode=False)\n",
      "    (4): Conv3d(32, 64, kernel_size=(3, 3, 3), stride=(1, 1, 1), padding=(1, 1, 1))\n",
      "    (5): ReLU()\n",
      "    (6): Dropout(p=0.2, inplace=False)\n",
      "    (7): MaxPool3d(kernel_size=(1, 2, 2), stride=(1, 2, 2), padding=0, dilation=1, ceil_mode=False)\n",
      "    (8): Conv3d(64, 128, kernel_size=(3, 3, 3), stride=(1, 1, 1), padding=(1, 1, 1))\n",
      "    (9): ReLU()\n",
      "    (10): Dropout(p=0.2, inplace=False)\n",
      "    (11): MaxPool3d(kernel_size=(2, 2, 2), stride=(2, 2, 2), padding=0, dilation=1, ceil_mode=False)\n",
      "  )\n",
      "  (fc): Linear(in_features=98304, out_features=512, bias=True)\n",
      "  (classifier): Linear(in_features=512, out_features=1, bias=True)\n",
      ")\n",
      "torch.Size([4, 1])\n"
     ]
    }
   ],
   "source": [
    "import torch\n",
    "import torch.nn as nn\n",
    "import torch.nn.functional as F\n",
    "\n",
    "class Conv3DModel(nn.Module):\n",
    "    def __init__(self, num_classes: int=1, vid_shape: Tuple[int,int,int]=(25,*target_shape)):\n",
    "        super(Conv3DModel, self).__init__()\n",
    "        \n",
    "        # Conv3D block\n",
    "        self.conv3d_block = nn.Sequential(\n",
    "            nn.Conv3d(in_channels=3, out_channels=32, kernel_size=(3, 3, 3), stride=1, padding=1),\n",
    "            nn.ReLU(),\n",
    "            nn.Dropout(0.2),\n",
    "            nn.MaxPool3d(kernel_size=(1, 2, 2)), \n",
    "            nn.Conv3d(in_channels=32, out_channels=64, kernel_size=(3, 3, 3), stride=1, padding=1),\n",
    "            nn.ReLU(),\n",
    "            nn.Dropout(0.2),\n",
    "            nn.MaxPool3d(kernel_size=(1, 2, 2)),\n",
    "            nn.Conv3d(in_channels=64, out_channels=128, kernel_size=(3, 3, 3), stride=1, padding=1),\n",
    "            nn.ReLU(),\n",
    "            nn.Dropout(0.2),\n",
    "            nn.MaxPool3d(kernel_size=(2, 2, 2)),  \n",
    "        )\n",
    "        self._calculate_spatial_dims(input_shape=(3, *vid_shape))\n",
    "        \n",
    "        self.fc = nn.Linear(self.conv3d_output_size, 512)\n",
    "        self.classifier = nn.Linear(512, num_classes)\n",
    "    \n",
    "    def _calculate_spatial_dims(self, input_shape):\n",
    "        \"\"\"Calculate the spatial dimensions after Conv3D and pooling layers.\"\"\"\n",
    "        x = torch.zeros(1, *input_shape)  # Create a dummy tensor to pass through Conv3D block\n",
    "        x = self.conv3d_block(x)\n",
    "        _, _, t, h, w = x.size()  # Get the output shape\n",
    "        self.conv3d_output_size = t * 128 * h * w \n",
    "\n",
    "    def forward(self, x: torch.Tensor) -> torch.Tensor:\n",
    "        \n",
    "        x = x.permute(0, 2, 1, 3, 4)  # (batch_size, channels, seq_len, height, width)\n",
    "        x = self.conv3d_block(x)  # (batch_size, 128, new_seq_len, new_height, new_width)\n",
    "        \n",
    "        x = nn.Flatten()(x) # (batch_size, new_seq_len*128*new_height*new_width)\n",
    "\n",
    "        output = F.relu(self.fc(x))  # (batch_size, 512)\n",
    "        output = self.classifier(output)  # (batch_size, num_classes)\n",
    "        \n",
    "        return output\n",
    "\n",
    "# Example usage:\n",
    "model = Conv3DModel(num_classes=1)\n",
    "print(model)\n",
    "\n",
    "# Check output with dummy input\n",
    "dummy_input = torch.randn(4, 25, 3, 64, 64)\n",
    "output = model(dummy_input)\n",
    "print(output.shape)\n"
   ]
  },
  {
   "cell_type": "code",
   "execution_count": 19,
   "metadata": {},
   "outputs": [],
   "source": [
    "import torch\n",
    "\n",
    "class SaveBestModel:\n",
    "    def __init__(self, best_val_loss: float=float('inf'), save_path: str='../models_weights/best_model.pth'):\n",
    "        self.best_val_loss = best_val_loss\n",
    "        self.save_path = save_path\n",
    "\n",
    "    def __call__(self, model: torch.nn.Module, current_val_loss: float, prev_best_min_loss: float):\n",
    "        if current_val_loss < self.best_val_loss and current_val_loss < prev_best_min_loss:\n",
    "            self.best_val_loss = current_val_loss\n",
    "            torch.save(model, self.save_path)\n",
    "            print(f'Best model saved with Val Loss: {self.best_val_loss:.4f}')\n"
   ]
  },
  {
   "cell_type": "code",
   "execution_count": 20,
   "metadata": {},
   "outputs": [],
   "source": [
    "from sklearn.metrics import precision_score, recall_score, f1_score\n",
    "def calculate_metrics(y_true: List[int], y_pred: List[int]) -> Tuple[float]:\n",
    "    precision = precision_score(y_true, y_pred, average='weighted')\n",
    "    recall = recall_score(y_true, y_pred, average='weighted')\n",
    "    f1 = f1_score(y_true, y_pred, average='weighted')\n",
    "    accuracy = 100 * np.sum(y_true == y_pred) / len(y_true)\n",
    "    return accuracy, precision, recall, f1"
   ]
  },
  {
   "cell_type": "code",
   "execution_count": 21,
   "metadata": {},
   "outputs": [],
   "source": [
    "import torch\n",
    "import numpy as np\n",
    "import matplotlib.pyplot as plt\n",
    "import seaborn as sns\n",
    "from sklearn.metrics import confusion_matrix\n",
    "import torch.utils\n",
    "import torch.utils.data\n",
    "from tqdm import tqdm\n",
    "from typing import List, Tuple\n",
    "\n",
    "def evaluate(\n",
    "        dataloader: torch.utils.data.DataLoader, \n",
    "        model: torch.nn.Module, \n",
    "        criterion: torch.nn, \n",
    "        class_names: List[str]=None, \n",
    "        device: str=\"\", \n",
    "        is_testing: bool=False\n",
    "    ) -> Tuple[float]: \n",
    "\n",
    "    if device == \"\":\n",
    "        device = torch.device('cuda' if torch.cuda.is_available() else 'cpu')\n",
    "    else:\n",
    "        device = torch.device(device)\n",
    "\n",
    "    model = model.to(device)\n",
    "    model.eval()\n",
    "    running_loss = 0.0\n",
    "    all_labels = []\n",
    "    all_predictions = []\n",
    "\n",
    "    with torch.no_grad():\n",
    "        for inputs, labels in tqdm(dataloader):\n",
    "            inputs, labels = inputs.to(device), labels.to(device)\n",
    "\n",
    "            outputs = model(inputs)\n",
    "            outputs = outputs.squeeze(-1)\n",
    "            loss = criterion(outputs, labels)\n",
    "\n",
    "            running_loss += loss.item()\n",
    "\n",
    "            predicted = (torch.sigmoid(outputs) >= 0.5).long()\n",
    "            all_labels.extend(labels.cpu().numpy())\n",
    "            all_predictions.extend(predicted.cpu().numpy())\n",
    "\n",
    "    # Calculate average loss\n",
    "    avg_loss = running_loss / len(dataloader)\n",
    "\n",
    "    # Calculate evaluation metrics\n",
    "    accuracy, precision, recall, f1 = calculate_metrics(np.array(all_labels), np.array(all_predictions))\n",
    "\n",
    "    if is_testing:\n",
    "        conf_matrix = confusion_matrix(all_labels, all_predictions)\n",
    "        plt.figure(figsize=(8, 6))\n",
    "        sns.heatmap(conf_matrix, annot=True, fmt='d', cmap='Blues', xticklabels=class_names, yticklabels=class_names)\n",
    "        plt.xlabel('Predicted Label')\n",
    "        plt.ylabel('True Label')\n",
    "        plt.title('Confusion Matrix')\n",
    "        plt.show()\n",
    "\n",
    "        print(f'Average Loss: {avg_loss:.4f}')\n",
    "        print(f'Accuracy: {accuracy:.4f}')\n",
    "        print(f'Precision: {precision:.4f}')\n",
    "        print(f'Recall: {recall:.4f}')\n",
    "        print(f'F1 Score: {f1:.4f}')\n",
    "\n",
    "    return avg_loss, accuracy, precision, recall, f1\n"
   ]
  },
  {
   "cell_type": "code",
   "execution_count": 22,
   "metadata": {},
   "outputs": [],
   "source": [
    "import torch\n",
    "import numpy as np\n",
    "import torch.utils\n",
    "import torch.utils.data\n",
    "from tqdm import tqdm\n",
    "\n",
    "\n",
    "def train(\n",
    "        model: torch.nn.Module, \n",
    "        train_loader: torch.utils.data.DataLoader, \n",
    "        val_loader: torch.utils.data.DataLoader, \n",
    "        criterion: torch.nn, \n",
    "        optimizer: torch.optim, \n",
    "        num_epochs: int=10, \n",
    "        device: str=\"\", \n",
    "        start_epoch: int=0, \n",
    "        scheduler: torch.optim.lr_scheduler=None, \n",
    "        new_lr: float=None,\n",
    "        models_weights_path: str='../models_weights/best_model.pth',\n",
    "        prev_best_min_loss: float=float('inf'),\n",
    "        prev_history: dict=None\n",
    "    ) -> None:\n",
    "\n",
    "    if device == \"\":\n",
    "        device = torch.device('cuda' if torch.cuda.is_available() else 'cpu')\n",
    "    # model = torch.compile(model, backend=\"nvfuser\")\n",
    "    model = model.to(device)\n",
    "    save_best_model = SaveBestModel(save_path=models_weights_path)\n",
    "    if new_lr is not None:\n",
    "        for param_group in optimizer.param_groups:\n",
    "            param_group['lr'] = new_lr\n",
    "    train_losses = []\n",
    "    val_losses = []\n",
    "    train_accuracies = []\n",
    "    val_accuracies = []\n",
    "    for epoch in range(start_epoch, num_epochs):\n",
    "        print(f'Epoch {epoch+1}/{num_epochs}')\n",
    "        print('-' * 10)\n",
    "\n",
    "        # Training phase\n",
    "        model.train()\n",
    "        running_loss = 0.0\n",
    "        all_labels = []\n",
    "        all_predictions = []\n",
    "\n",
    "        for inputs, labels in tqdm(train_loader):\n",
    "            inputs, labels = inputs.to(device), labels.to(device)\n",
    "\n",
    "            optimizer.zero_grad()\n",
    "\n",
    "            outputs = model(inputs)\n",
    "            outputs = outputs.squeeze(-1)\n",
    "            loss = criterion(outputs, labels)\n",
    "\n",
    "            loss.backward()\n",
    "            optimizer.step()\n",
    "\n",
    "            running_loss += loss.item()\n",
    "\n",
    "            predicted = (torch.sigmoid(outputs) >= 0.5).long()\n",
    "            all_labels.extend(labels.cpu().numpy())\n",
    "            all_predictions.extend(predicted.cpu().numpy())\n",
    "\n",
    "        avg_train_loss = running_loss / len(train_loader)\n",
    "\n",
    "        train_losses.append(avg_train_loss)\n",
    "\n",
    "        train_accuracy, train_precision, train_recall, train_f1 = calculate_metrics(np.array(all_labels), np.array(all_predictions))\n",
    "        print(f'Train Loss: {avg_train_loss:.4f}, Accuracy: {train_accuracy:.2f}%, '\n",
    "              f'Precision: {train_precision:.4f}, Recall: {train_recall:.4f}, F1 Score: {train_f1:.4f}')\n",
    "\n",
    "        train_accuracies.append(train_accuracy)\n",
    "        # Validation phase\n",
    "        avg_val_loss, val_accuracy, val_precision, val_recall, val_f1 = evaluate(val_loader, model, criterion)\n",
    "\n",
    "        print(f'Val Loss: {avg_val_loss:.4f}, Accuracy: {val_accuracy:.2f}%, '\n",
    "              f'Precision: {val_precision:.4f}, Recall: {val_recall:.4f}, F1 Score: {val_f1:.4f}')\n",
    "        print(\"-\"*50)\n",
    "\n",
    "        val_losses.append(avg_val_loss)\n",
    "        val_accuracies.append(val_accuracy)\n",
    "        # Save the best model using the callback\n",
    "        save_best_model(model, avg_val_loss, prev_best_min_loss)\n",
    "\n",
    "        # Step the scheduler if it exists\n",
    "        if scheduler is not None:\n",
    "            scheduler.step(avg_val_loss if isinstance(scheduler, torch.optim.lr_scheduler.ReduceLROnPlateau) else None)\n",
    "    print('Finished Training')\n",
    "    history = {\n",
    "        'train_loss': train_losses,\n",
    "        'val_loss': val_losses,\n",
    "        'train_accuracy': train_accuracies,\n",
    "        'val_accuracy': val_accuracies,\n",
    "        \"prev_best_min_loss\": save_best_model.best_val_loss\n",
    "    }\n",
    "    if prev_history is not None:\n",
    "        for key in prev_history.keys():\n",
    "            if key != 'prev_best_min_loss':\n",
    "                history[key] =  prev_history[key] + history[key]\n",
    "    return history"
   ]
  },
  {
   "cell_type": "code",
   "execution_count": 23,
   "metadata": {},
   "outputs": [
    {
     "name": "stdout",
     "output_type": "stream",
     "text": [
      "Epoch 1/10\n",
      "----------\n"
     ]
    },
    {
     "name": "stderr",
     "output_type": "stream",
     "text": [
      "100%|██████████| 41/41 [03:06<00:00,  4.55s/it]\n"
     ]
    },
    {
     "name": "stdout",
     "output_type": "stream",
     "text": [
      "Train Loss: 1.0018, Accuracy: 60.67%, Precision: 0.6070, Recall: 0.6067, F1 Score: 0.6064\n"
     ]
    },
    {
     "name": "stderr",
     "output_type": "stream",
     "text": [
      "100%|██████████| 39/39 [00:03<00:00, 11.36it/s]\n",
      "c:\\Users\\001\\anaconda3\\envs\\pytorch-env\\lib\\site-packages\\sklearn\\metrics\\_classification.py:1471: UndefinedMetricWarning: Precision is ill-defined and being set to 0.0 in labels with no predicted samples. Use `zero_division` parameter to control this behavior.\n",
      "  _warn_prf(average, modifier, msg_start, len(result))\n"
     ]
    },
    {
     "name": "stdout",
     "output_type": "stream",
     "text": [
      "Val Loss: 0.6638, Accuracy: 64.10%, Precision: 0.4109, Recall: 0.6410, F1 Score: 0.5008\n",
      "--------------------------------------------------\n",
      "Best model saved with Val Loss: 0.6638\n",
      "Epoch 2/10\n",
      "----------\n"
     ]
    },
    {
     "name": "stderr",
     "output_type": "stream",
     "text": [
      "100%|██████████| 41/41 [03:04<00:00,  4.51s/it]\n"
     ]
    },
    {
     "name": "stdout",
     "output_type": "stream",
     "text": [
      "Train Loss: 0.6826, Accuracy: 59.76%, Precision: 0.5978, Recall: 0.5976, F1 Score: 0.5973\n"
     ]
    },
    {
     "name": "stderr",
     "output_type": "stream",
     "text": [
      "100%|██████████| 39/39 [00:03<00:00, 11.22it/s]\n"
     ]
    },
    {
     "name": "stdout",
     "output_type": "stream",
     "text": [
      "Val Loss: 0.6133, Accuracy: 64.10%, Precision: 0.6216, Recall: 0.6410, F1 Score: 0.6244\n",
      "--------------------------------------------------\n",
      "Best model saved with Val Loss: 0.6133\n",
      "Epoch 3/10\n",
      "----------\n"
     ]
    },
    {
     "name": "stderr",
     "output_type": "stream",
     "text": [
      "100%|██████████| 41/41 [03:16<00:00,  4.78s/it]\n"
     ]
    },
    {
     "name": "stdout",
     "output_type": "stream",
     "text": [
      "Train Loss: 0.6855, Accuracy: 57.93%, Precision: 0.5793, Recall: 0.5793, F1 Score: 0.5793\n"
     ]
    },
    {
     "name": "stderr",
     "output_type": "stream",
     "text": [
      "100%|██████████| 39/39 [00:03<00:00, 10.12it/s]\n"
     ]
    },
    {
     "name": "stdout",
     "output_type": "stream",
     "text": [
      "Val Loss: 0.6583, Accuracy: 61.54%, Precision: 0.6695, Recall: 0.6154, F1 Score: 0.6225\n",
      "--------------------------------------------------\n",
      "Epoch 4/10\n",
      "----------\n"
     ]
    },
    {
     "name": "stderr",
     "output_type": "stream",
     "text": [
      "100%|██████████| 41/41 [03:13<00:00,  4.72s/it]\n"
     ]
    },
    {
     "name": "stdout",
     "output_type": "stream",
     "text": [
      "Train Loss: 0.6789, Accuracy: 57.32%, Precision: 0.5754, Recall: 0.5732, F1 Score: 0.5700\n"
     ]
    },
    {
     "name": "stderr",
     "output_type": "stream",
     "text": [
      "100%|██████████| 39/39 [00:03<00:00, 10.36it/s]\n"
     ]
    },
    {
     "name": "stdout",
     "output_type": "stream",
     "text": [
      "Val Loss: 0.6941, Accuracy: 51.28%, Precision: 0.7114, Recall: 0.5128, F1 Score: 0.4794\n",
      "--------------------------------------------------\n",
      "Epoch 5/10\n",
      "----------\n"
     ]
    },
    {
     "name": "stderr",
     "output_type": "stream",
     "text": [
      "100%|██████████| 41/41 [03:12<00:00,  4.71s/it]\n"
     ]
    },
    {
     "name": "stdout",
     "output_type": "stream",
     "text": [
      "Train Loss: 0.6769, Accuracy: 57.62%, Precision: 0.5894, Recall: 0.5762, F1 Score: 0.5600\n"
     ]
    },
    {
     "name": "stderr",
     "output_type": "stream",
     "text": [
      "100%|██████████| 39/39 [00:04<00:00,  9.75it/s]\n"
     ]
    },
    {
     "name": "stdout",
     "output_type": "stream",
     "text": [
      "Val Loss: 0.6365, Accuracy: 66.67%, Precision: 0.7018, Recall: 0.6667, F1 Score: 0.6734\n",
      "--------------------------------------------------\n",
      "Epoch 6/10\n",
      "----------\n"
     ]
    },
    {
     "name": "stderr",
     "output_type": "stream",
     "text": [
      "100%|██████████| 41/41 [03:13<00:00,  4.72s/it]\n"
     ]
    },
    {
     "name": "stdout",
     "output_type": "stream",
     "text": [
      "Train Loss: 0.6678, Accuracy: 62.20%, Precision: 0.6224, Recall: 0.6220, F1 Score: 0.6216\n"
     ]
    },
    {
     "name": "stderr",
     "output_type": "stream",
     "text": [
      "100%|██████████| 39/39 [00:03<00:00, 10.28it/s]\n"
     ]
    },
    {
     "name": "stdout",
     "output_type": "stream",
     "text": [
      "Val Loss: 0.6500, Accuracy: 61.54%, Precision: 0.6695, Recall: 0.6154, F1 Score: 0.6225\n",
      "--------------------------------------------------\n",
      "Epoch 7/10\n",
      "----------\n"
     ]
    },
    {
     "name": "stderr",
     "output_type": "stream",
     "text": [
      "100%|██████████| 41/41 [03:15<00:00,  4.78s/it]\n"
     ]
    },
    {
     "name": "stdout",
     "output_type": "stream",
     "text": [
      "Train Loss: 0.6721, Accuracy: 63.41%, Precision: 0.6382, Recall: 0.6341, F1 Score: 0.6315\n"
     ]
    },
    {
     "name": "stderr",
     "output_type": "stream",
     "text": [
      "100%|██████████| 39/39 [00:03<00:00, 10.18it/s]\n"
     ]
    },
    {
     "name": "stdout",
     "output_type": "stream",
     "text": [
      "Val Loss: 0.6091, Accuracy: 71.79%, Precision: 0.7140, Recall: 0.7179, F1 Score: 0.7155\n",
      "--------------------------------------------------\n",
      "Best model saved with Val Loss: 0.6091\n",
      "Epoch 8/10\n",
      "----------\n"
     ]
    },
    {
     "name": "stderr",
     "output_type": "stream",
     "text": [
      "100%|██████████| 41/41 [03:04<00:00,  4.51s/it]\n"
     ]
    },
    {
     "name": "stdout",
     "output_type": "stream",
     "text": [
      "Train Loss: 0.6631, Accuracy: 61.89%, Precision: 0.6202, Recall: 0.6189, F1 Score: 0.6179\n"
     ]
    },
    {
     "name": "stderr",
     "output_type": "stream",
     "text": [
      "100%|██████████| 39/39 [00:03<00:00, 12.45it/s]\n"
     ]
    },
    {
     "name": "stdout",
     "output_type": "stream",
     "text": [
      "Val Loss: 0.6324, Accuracy: 66.67%, Precision: 0.6722, Recall: 0.6667, F1 Score: 0.6690\n",
      "--------------------------------------------------\n",
      "Epoch 9/10\n",
      "----------\n"
     ]
    },
    {
     "name": "stderr",
     "output_type": "stream",
     "text": [
      "100%|██████████| 41/41 [03:02<00:00,  4.45s/it]\n"
     ]
    },
    {
     "name": "stdout",
     "output_type": "stream",
     "text": [
      "Train Loss: 0.6553, Accuracy: 60.06%, Precision: 0.6017, Recall: 0.6006, F1 Score: 0.5995\n"
     ]
    },
    {
     "name": "stderr",
     "output_type": "stream",
     "text": [
      "100%|██████████| 39/39 [00:03<00:00, 12.40it/s]\n"
     ]
    },
    {
     "name": "stdout",
     "output_type": "stream",
     "text": [
      "Val Loss: 0.6327, Accuracy: 66.67%, Precision: 0.6722, Recall: 0.6667, F1 Score: 0.6690\n",
      "--------------------------------------------------\n",
      "Epoch 10/10\n",
      "----------\n"
     ]
    },
    {
     "name": "stderr",
     "output_type": "stream",
     "text": [
      "100%|██████████| 41/41 [03:06<00:00,  4.54s/it]\n"
     ]
    },
    {
     "name": "stdout",
     "output_type": "stream",
     "text": [
      "Train Loss: 0.6549, Accuracy: 62.20%, Precision: 0.6221, Recall: 0.6220, F1 Score: 0.6218\n"
     ]
    },
    {
     "name": "stderr",
     "output_type": "stream",
     "text": [
      "100%|██████████| 39/39 [00:03<00:00, 11.80it/s]"
     ]
    },
    {
     "name": "stdout",
     "output_type": "stream",
     "text": [
      "Val Loss: 0.6378, Accuracy: 66.67%, Precision: 0.6722, Recall: 0.6667, F1 Score: 0.6690\n",
      "--------------------------------------------------\n",
      "Finished Training\n"
     ]
    },
    {
     "name": "stderr",
     "output_type": "stream",
     "text": [
      "\n"
     ]
    }
   ],
   "source": [
    "import torch.optim as optim\n",
    "\n",
    "vid_shape = (20,*target_shape)\n",
    "model = Conv3DModel(num_classes=1, vid_shape=vid_shape)\n",
    "device = torch.device('cuda' if torch.cuda.is_available() else 'cpu')\n",
    "model = model.to(device)\n",
    "\n",
    "# train_class_weights, normalized_class_weights = calculate_class_weights(train_files)\n",
    "# pos_weight = torch.tensor([train_class_weights[1]],dtype=torch.float32).to(device)\n",
    "# criterion = nn.BCEWithLogitsLoss(pos_weight=pos_weight)\n",
    "criterion = nn.BCEWithLogitsLoss()\n",
    "optimizer = optim.Adam(model.parameters(), lr=0.001)\n",
    "num_epochs = 10\n",
    "\n",
    "history = train(model, train_dataloader, val_dataloader, criterion, optimizer, num_epochs=10, models_weights_path='./models_weights/conv3d/best_model.pth')"
   ]
  },
  {
   "cell_type": "code",
   "execution_count": 25,
   "metadata": {},
   "outputs": [
    {
     "data": {
      "text/plain": [
       "{'train_loss': [1.0018003398336743,\n",
       "  0.6826147739945843,\n",
       "  0.6855435281219643,\n",
       "  0.6789035462751621,\n",
       "  0.676856418214057,\n",
       "  0.6677705000109244,\n",
       "  0.6721103375823032,\n",
       "  0.6631151535775421,\n",
       "  0.6553310167453275,\n",
       "  0.6548531680515536],\n",
       " 'val_loss': [0.6637931342881459,\n",
       "  0.6132773695847927,\n",
       "  0.6583017471891183,\n",
       "  0.6940851118893195,\n",
       "  0.6364713399074017,\n",
       "  0.650032367461767,\n",
       "  0.6090658524861703,\n",
       "  0.63237243050184,\n",
       "  0.6327457047807865,\n",
       "  0.6378330404941852],\n",
       " 'train_accuracy': [60.670731707317074,\n",
       "  59.75609756097561,\n",
       "  57.926829268292686,\n",
       "  57.31707317073171,\n",
       "  57.6219512195122,\n",
       "  62.19512195121951,\n",
       "  63.41463414634146,\n",
       "  61.890243902439025,\n",
       "  60.0609756097561,\n",
       "  62.19512195121951],\n",
       " 'val_accuracy': [64.1025641025641,\n",
       "  64.1025641025641,\n",
       "  61.53846153846154,\n",
       "  51.282051282051285,\n",
       "  66.66666666666667,\n",
       "  61.53846153846154,\n",
       "  71.7948717948718,\n",
       "  66.66666666666667,\n",
       "  66.66666666666667,\n",
       "  66.66666666666667],\n",
       " 'prev_best_min_loss': 0.6090658524861703}"
      ]
     },
     "execution_count": 25,
     "metadata": {},
     "output_type": "execute_result"
    }
   ],
   "source": [
    "history"
   ]
  },
  {
   "cell_type": "code",
   "execution_count": 24,
   "metadata": {},
   "outputs": [
    {
     "name": "stderr",
     "output_type": "stream",
     "text": [
      "C:\\Users\\001\\AppData\\Local\\Temp\\ipykernel_6228\\1715951988.py:1: FutureWarning: You are using `torch.load` with `weights_only=False` (the current default value), which uses the default pickle module implicitly. It is possible to construct malicious pickle data which will execute arbitrary code during unpickling (See https://github.com/pytorch/pytorch/blob/main/SECURITY.md#untrusted-models for more details). In a future release, the default value for `weights_only` will be flipped to `True`. This limits the functions that could be executed during unpickling. Arbitrary objects will no longer be allowed to be loaded via this mode unless they are explicitly allowlisted by the user via `torch.serialization.add_safe_globals`. We recommend you start setting `weights_only=True` for any use case where you don't have full control of the loaded file. Please open an issue on GitHub for any issues related to this experimental feature.\n",
      "  best_conv3d = torch.load('./models_weights/conv3d/best_model.pth')\n",
      "100%|██████████| 39/39 [00:04<00:00,  8.53it/s]\n"
     ]
    },
    {
     "data": {
      "image/png": "[encoded data removed]",
      "text/plain": [
       "<Figure size 800x600 with 2 Axes>"
      ]
     },
     "metadata": {},
     "output_type": "display_data"
    },
    {
     "name": "stdout",
     "output_type": "stream",
     "text": [
      "Average Loss: 0.6609\n",
      "Accuracy: 66.6667\n",
      "Precision: 0.7166\n",
      "Recall: 0.6667\n",
      "F1 Score: 0.6697\n"
     ]
    },
    {
     "data": {
      "text/plain": [
       "(0.6609021604825289,\n",
       " 66.66666666666667,\n",
       " 0.7165775401069518,\n",
       " 0.6666666666666666,\n",
       " 0.6697429136453525)"
      ]
     },
     "execution_count": 24,
     "metadata": {},
     "output_type": "execute_result"
    }
   ],
   "source": [
    "best_conv3d = torch.load('./models_weights/conv3d/best_model.pth')\n",
    "evaluate(test_dataloader, best_conv3d, criterion, class_names=['Non Shop Lifters', 'Shop Lifters'], device='cuda', is_testing=True)"
   ]
  },
  {
   "cell_type": "code",
   "execution_count": null,
   "metadata": {},
   "outputs": [],
   "source": []
  }
 ],
 "metadata": {
  "kernelspec": {
   "display_name": "pytorch-env",
   "language": "python",
   "name": "python3"
  },
  "language_info": {
   "codemirror_mode": {
    "name": "ipython",
    "version": 3
   },
   "file_extension": ".py",
   "mimetype": "text/x-python",
   "name": "python",
   "nbconvert_exporter": "python",
   "pygments_lexer": "ipython3",
   "version": "3.8.5"
  }
 },
 "nbformat": 4,
 "nbformat_minor": 2
}
