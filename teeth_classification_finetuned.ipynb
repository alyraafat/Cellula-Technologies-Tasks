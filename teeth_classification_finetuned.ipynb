{
 "cells": [
  {
   "cell_type": "markdown",
   "metadata": {},
   "source": [
    "# Imports"
   ]
  },
  {
   "cell_type": "code",
   "execution_count": 1,
   "metadata": {},
   "outputs": [],
   "source": [
    "import torch\n",
    "from torch.utils.data import DataLoader\n",
    "from torchvision import transforms\n",
    "from torchvision.datasets import ImageFolder\n",
    "from torch import nn\n",
    "from helpers import *\n",
    "from models import *"
   ]
  },
  {
   "cell_type": "markdown",
   "metadata": {},
   "source": [
    "# Preprocessing"
   ]
  },
  {
   "cell_type": "code",
   "execution_count": 2,
   "metadata": {},
   "outputs": [],
   "source": [
    "dataset_dir = \"./Teeth DataSet/Teeth_Dataset\""
   ]
  },
  {
   "cell_type": "code",
   "execution_count": 3,
   "metadata": {},
   "outputs": [
    {
     "name": "stdout",
     "output_type": "stream",
     "text": [
      "Class 'CaS' contains 480 images.\n",
      "Class 'CoS' contains 450 images.\n",
      "Class 'Gum' contains 360 images.\n",
      "Class 'MC' contains 540 images.\n",
      "Class 'OC' contains 324 images.\n",
      "Class 'OLP' contains 540 images.\n",
      "Class 'OT' contains 393 images.\n"
     ]
    }
   ],
   "source": [
    "train_class_weights, train_class_weights_norm, train_class_counts = show_counts(f\"{dataset_dir}/Training\")"
   ]
  },
  {
   "cell_type": "code",
   "execution_count": 4,
   "metadata": {},
   "outputs": [
    {
     "data": {
      "text/plain": [
       "{'CaS': 0.12689335505026225,\n",
       " 'CoS': 0.13535291205361308,\n",
       " 'Gum': 0.16919114006701633,\n",
       " 'MC': 0.11279409337801088,\n",
       " 'OC': 0.18799015563001817,\n",
       " 'OLP': 0.11279409337801088,\n",
       " 'OT': 0.15498425044306838}"
      ]
     },
     "execution_count": 4,
     "metadata": {},
     "output_type": "execute_result"
    }
   ],
   "source": [
    "train_class_weights_norm"
   ]
  },
  {
   "cell_type": "code",
   "execution_count": 5,
   "metadata": {},
   "outputs": [],
   "source": [
    "im_target_shape = (224, 224)\n",
    "train_transform = transforms.Compose([\n",
    "    transforms.Resize(im_target_shape),\n",
    "    transforms.RandomHorizontalFlip(),  # Randomly flip the image horizontally\n",
    "    transforms.RandomRotation(10),      # Randomly rotate the image by up to 10 degrees\n",
    "    transforms.ColorJitter(brightness=0.2, contrast=0.2, saturation=0.2, hue=0.2),\n",
    "    transforms.ToTensor(),\n",
    "    transforms.Normalize(mean=[0.485, 0.456, 0.406], std=[0.229, 0.224, 0.225])\n",
    "])\n",
    "test_transform = transforms.Compose([\n",
    "    transforms.Resize(im_target_shape),\n",
    "    transforms.ToTensor(),\n",
    "    transforms.Normalize(mean=[0.485, 0.456, 0.406], std=[0.229, 0.224, 0.225])\n",
    "])\n",
    "train_dataset = ImageFolder(root=f'{dataset_dir}/Training', transform=train_transform)\n",
    "val_dataset = ImageFolder(root=f'{dataset_dir}/Validation', transform=test_transform)\n",
    "test_dataset = ImageFolder(root=f'{dataset_dir}/Testing', transform=test_transform)\n",
    "\n",
    "batch_size = 16\n",
    "train_loader = DataLoader(dataset=train_dataset, batch_size=batch_size, shuffle=True, num_workers=4)\n",
    "val_loader = DataLoader(dataset=val_dataset, batch_size=batch_size, shuffle=False, num_workers=4)\n",
    "test_loader = DataLoader(dataset=test_dataset, batch_size=batch_size, shuffle=False, num_workers=4)\n"
   ]
  },
  {
   "cell_type": "markdown",
   "metadata": {},
   "source": [
    "# Model"
   ]
  },
  {
   "cell_type": "code",
   "execution_count": 6,
   "metadata": {},
   "outputs": [
    {
     "name": "stderr",
     "output_type": "stream",
     "text": [
      "c:\\Users\\001\\anaconda3\\envs\\pytorch-env\\lib\\site-packages\\torchvision\\models\\_utils.py:208: UserWarning: The parameter 'pretrained' is deprecated since 0.13 and may be removed in the future, please use 'weights' instead.\n",
      "  warnings.warn(\n",
      "c:\\Users\\001\\anaconda3\\envs\\pytorch-env\\lib\\site-packages\\torchvision\\models\\_utils.py:223: UserWarning: Arguments other than a weight enum or `None` for 'weights' are deprecated since 0.13 and may be removed in the future. The current behavior is equivalent to passing `weights=ResNet18_Weights.IMAGENET1K_V1`. You can also use `weights=ResNet18_Weights.DEFAULT` to get the most up-to-date weights.\n",
      "  warnings.warn(msg)\n"
     ]
    }
   ],
   "source": [
    "resnet18 = create_resnet(num_classes=len(train_dataset.classes), resnet_type=\"resnet18\")"
   ]
  },
  {
   "cell_type": "code",
   "execution_count": 7,
   "metadata": {},
   "outputs": [],
   "source": [
    "device = torch.device(\"cuda\" if torch.cuda.is_available() else \"cpu\")\n",
    "optimizer = torch.optim.Adam(resnet18.parameters(), lr=0.001, weight_decay=0.0001)\n",
    "train_class_weights_norm_tensor = torch.tensor(list(train_class_weights_norm.values())).to(device)\n",
    "criterion = nn.CrossEntropyLoss(weight=train_class_weights_norm_tensor)\n",
    "num_epochs = 10"
   ]
  },
  {
   "cell_type": "code",
   "execution_count": 9,
   "metadata": {},
   "outputs": [
    {
     "name": "stdout",
     "output_type": "stream",
     "text": [
      "Epoch 1/10\n",
      "----------\n"
     ]
    },
    {
     "name": "stderr",
     "output_type": "stream",
     "text": [
      "100%|██████████| 193/193 [00:12<00:00, 15.99it/s]\n"
     ]
    },
    {
     "name": "stdout",
     "output_type": "stream",
     "text": [
      "Train Loss: 1.5031, Accuracy: 43.12%, Precision: 0.4284, Recall: 0.4312, F1 Score: 0.4276\n"
     ]
    },
    {
     "name": "stderr",
     "output_type": "stream",
     "text": [
      "100%|██████████| 65/65 [00:08<00:00,  7.64it/s]\n"
     ]
    },
    {
     "name": "stdout",
     "output_type": "stream",
     "text": [
      "Val Loss: 1.7109, Accuracy: 47.86%, Precision: 0.5907, Recall: 0.4786, F1 Score: 0.4613\n",
      "--------------------------------------------------\n",
      "Best model saved with Val Loss: 1.7109\n",
      "Epoch 2/10\n",
      "----------\n"
     ]
    },
    {
     "name": "stderr",
     "output_type": "stream",
     "text": [
      "100%|██████████| 193/193 [00:11<00:00, 17.15it/s]\n"
     ]
    },
    {
     "name": "stdout",
     "output_type": "stream",
     "text": [
      "Train Loss: 1.0791, Accuracy: 60.61%, Precision: 0.6042, Recall: 0.6061, F1 Score: 0.6030\n"
     ]
    },
    {
     "name": "stderr",
     "output_type": "stream",
     "text": [
      "100%|██████████| 65/65 [00:07<00:00,  8.95it/s]\n"
     ]
    },
    {
     "name": "stdout",
     "output_type": "stream",
     "text": [
      "Val Loss: 1.0595, Accuracy: 62.65%, Precision: 0.6906, Recall: 0.6265, F1 Score: 0.6083\n",
      "--------------------------------------------------\n",
      "Best model saved with Val Loss: 1.0595\n",
      "Epoch 3/10\n",
      "----------\n"
     ]
    },
    {
     "name": "stderr",
     "output_type": "stream",
     "text": [
      "100%|██████████| 193/193 [00:11<00:00, 17.41it/s]\n"
     ]
    },
    {
     "name": "stdout",
     "output_type": "stream",
     "text": [
      "Train Loss: 0.9113, Accuracy: 66.80%, Precision: 0.6674, Recall: 0.6680, F1 Score: 0.6664\n"
     ]
    },
    {
     "name": "stderr",
     "output_type": "stream",
     "text": [
      "100%|██████████| 65/65 [00:07<00:00,  9.20it/s]\n"
     ]
    },
    {
     "name": "stdout",
     "output_type": "stream",
     "text": [
      "Val Loss: 0.9874, Accuracy: 64.20%, Precision: 0.7186, Recall: 0.6420, F1 Score: 0.6259\n",
      "--------------------------------------------------\n",
      "Best model saved with Val Loss: 0.9874\n",
      "Epoch 4/10\n",
      "----------\n"
     ]
    },
    {
     "name": "stderr",
     "output_type": "stream",
     "text": [
      "100%|██████████| 193/193 [00:10<00:00, 17.69it/s]\n"
     ]
    },
    {
     "name": "stdout",
     "output_type": "stream",
     "text": [
      "Train Loss: 0.7462, Accuracy: 73.44%, Precision: 0.7339, Recall: 0.7344, F1 Score: 0.7329\n"
     ]
    },
    {
     "name": "stderr",
     "output_type": "stream",
     "text": [
      "100%|██████████| 65/65 [00:08<00:00,  7.36it/s]\n"
     ]
    },
    {
     "name": "stdout",
     "output_type": "stream",
     "text": [
      "Val Loss: 0.6670, Accuracy: 72.67%, Precision: 0.7605, Recall: 0.7267, F1 Score: 0.7184\n",
      "--------------------------------------------------\n",
      "Best model saved with Val Loss: 0.6670\n",
      "Epoch 5/10\n",
      "----------\n"
     ]
    },
    {
     "name": "stderr",
     "output_type": "stream",
     "text": [
      "100%|██████████| 193/193 [00:10<00:00, 17.77it/s]\n"
     ]
    },
    {
     "name": "stdout",
     "output_type": "stream",
     "text": [
      "Train Loss: 0.6678, Accuracy: 76.35%, Precision: 0.7626, Recall: 0.7635, F1 Score: 0.7617\n"
     ]
    },
    {
     "name": "stderr",
     "output_type": "stream",
     "text": [
      "100%|██████████| 65/65 [00:07<00:00,  9.21it/s]\n"
     ]
    },
    {
     "name": "stdout",
     "output_type": "stream",
     "text": [
      "Val Loss: 0.4775, Accuracy: 82.20%, Precision: 0.8409, Recall: 0.8220, F1 Score: 0.8210\n",
      "--------------------------------------------------\n",
      "Best model saved with Val Loss: 0.4775\n",
      "Epoch 6/10\n",
      "----------\n"
     ]
    },
    {
     "name": "stderr",
     "output_type": "stream",
     "text": [
      "100%|██████████| 193/193 [00:10<00:00, 17.99it/s]\n"
     ]
    },
    {
     "name": "stdout",
     "output_type": "stream",
     "text": [
      "Train Loss: 0.5097, Accuracy: 81.79%, Precision: 0.8176, Recall: 0.8179, F1 Score: 0.8172\n"
     ]
    },
    {
     "name": "stderr",
     "output_type": "stream",
     "text": [
      "100%|██████████| 65/65 [00:07<00:00,  9.03it/s]\n"
     ]
    },
    {
     "name": "stdout",
     "output_type": "stream",
     "text": [
      "Val Loss: 0.5341, Accuracy: 81.61%, Precision: 0.8252, Recall: 0.8161, F1 Score: 0.8165\n",
      "--------------------------------------------------\n",
      "Epoch 7/10\n",
      "----------\n"
     ]
    },
    {
     "name": "stderr",
     "output_type": "stream",
     "text": [
      "100%|██████████| 193/193 [00:10<00:00, 17.97it/s]\n"
     ]
    },
    {
     "name": "stdout",
     "output_type": "stream",
     "text": [
      "Train Loss: 0.4048, Accuracy: 85.94%, Precision: 0.8593, Recall: 0.8594, F1 Score: 0.8590\n"
     ]
    },
    {
     "name": "stderr",
     "output_type": "stream",
     "text": [
      "100%|██████████| 65/65 [00:07<00:00,  8.94it/s]\n"
     ]
    },
    {
     "name": "stdout",
     "output_type": "stream",
     "text": [
      "Val Loss: 0.4284, Accuracy: 84.44%, Precision: 0.8594, Recall: 0.8444, F1 Score: 0.8409\n",
      "--------------------------------------------------\n",
      "Best model saved with Val Loss: 0.4284\n",
      "Epoch 8/10\n",
      "----------\n"
     ]
    },
    {
     "name": "stderr",
     "output_type": "stream",
     "text": [
      "100%|██████████| 193/193 [00:10<00:00, 18.09it/s]\n"
     ]
    },
    {
     "name": "stdout",
     "output_type": "stream",
     "text": [
      "Train Loss: 0.4029, Accuracy: 85.81%, Precision: 0.8581, Recall: 0.8581, F1 Score: 0.8578\n"
     ]
    },
    {
     "name": "stderr",
     "output_type": "stream",
     "text": [
      "100%|██████████| 65/65 [00:07<00:00,  9.24it/s]\n"
     ]
    },
    {
     "name": "stdout",
     "output_type": "stream",
     "text": [
      "Val Loss: 0.3067, Accuracy: 89.88%, Precision: 0.9032, Recall: 0.8988, F1 Score: 0.8981\n",
      "--------------------------------------------------\n",
      "Best model saved with Val Loss: 0.3067\n",
      "Epoch 9/10\n",
      "----------\n"
     ]
    },
    {
     "name": "stderr",
     "output_type": "stream",
     "text": [
      "100%|██████████| 193/193 [00:10<00:00, 18.00it/s]\n"
     ]
    },
    {
     "name": "stdout",
     "output_type": "stream",
     "text": [
      "Train Loss: 0.3440, Accuracy: 87.66%, Precision: 0.8772, Recall: 0.8766, F1 Score: 0.8764\n"
     ]
    },
    {
     "name": "stderr",
     "output_type": "stream",
     "text": [
      "100%|██████████| 65/65 [00:07<00:00,  9.26it/s]\n"
     ]
    },
    {
     "name": "stdout",
     "output_type": "stream",
     "text": [
      "Val Loss: 0.2936, Accuracy: 89.88%, Precision: 0.9019, Recall: 0.8988, F1 Score: 0.8988\n",
      "--------------------------------------------------\n",
      "Best model saved with Val Loss: 0.2936\n",
      "Epoch 10/10\n",
      "----------\n"
     ]
    },
    {
     "name": "stderr",
     "output_type": "stream",
     "text": [
      "100%|██████████| 193/193 [00:10<00:00, 18.03it/s]\n"
     ]
    },
    {
     "name": "stdout",
     "output_type": "stream",
     "text": [
      "Train Loss: 0.3063, Accuracy: 89.37%, Precision: 0.8937, Recall: 0.8937, F1 Score: 0.8935\n"
     ]
    },
    {
     "name": "stderr",
     "output_type": "stream",
     "text": [
      "100%|██████████| 65/65 [00:07<00:00,  9.23it/s]"
     ]
    },
    {
     "name": "stdout",
     "output_type": "stream",
     "text": [
      "Val Loss: 0.3377, Accuracy: 87.06%, Precision: 0.8865, Recall: 0.8706, F1 Score: 0.8701\n",
      "--------------------------------------------------\n"
     ]
    },
    {
     "name": "stderr",
     "output_type": "stream",
     "text": [
      "\n"
     ]
    }
   ],
   "source": [
    "train(\n",
    "    model=resnet18,\n",
    "    optimizer=optimizer, \n",
    "    criterion=criterion, \n",
    "    train_loader=train_loader, \n",
    "    val_loader=val_loader, \n",
    "    num_epochs=num_epochs, \n",
    "    device=device,\n",
    "    models_weights_path=\"./models_weights/resnet18/best_model.pth\")\n"
   ]
  },
  {
   "cell_type": "code",
   "execution_count": 11,
   "metadata": {},
   "outputs": [
    {
     "name": "stderr",
     "output_type": "stream",
     "text": [
      "100%|██████████| 65/65 [00:07<00:00,  8.97it/s]\n"
     ]
    },
    {
     "data": {
      "text/plain": [
       "(0.35067928700636214,\n",
       " 87.64591439688716,\n",
       " 0.891959017350064,\n",
       " 0.8764591439688716,\n",
       " 0.8762765484632277)"
      ]
     },
     "execution_count": 11,
     "metadata": {},
     "output_type": "execute_result"
    }
   ],
   "source": [
    "evaluate(dataloader=test_loader, model=resnet18, device=device, criterion=criterion)"
   ]
  },
  {
   "cell_type": "code",
   "execution_count": 13,
   "metadata": {},
   "outputs": [
    {
     "name": "stdout",
     "output_type": "stream",
     "text": [
      "Epoch 11/20\n",
      "----------\n"
     ]
    },
    {
     "name": "stderr",
     "output_type": "stream",
     "text": [
      "100%|██████████| 193/193 [00:10<00:00, 18.43it/s]\n"
     ]
    },
    {
     "name": "stdout",
     "output_type": "stream",
     "text": [
      "Train Loss: 0.2612, Accuracy: 90.18%, Precision: 0.9020, Recall: 0.9018, F1 Score: 0.9016\n"
     ]
    },
    {
     "name": "stderr",
     "output_type": "stream",
     "text": [
      "100%|██████████| 65/65 [00:05<00:00, 11.66it/s]\n"
     ]
    },
    {
     "name": "stdout",
     "output_type": "stream",
     "text": [
      "Val Loss: 0.3334, Accuracy: 89.01%, Precision: 0.8969, Recall: 0.8901, F1 Score: 0.8893\n",
      "--------------------------------------------------\n",
      "Best model saved with Val Loss: 0.3334\n",
      "Epoch 12/20\n",
      "----------\n"
     ]
    },
    {
     "name": "stderr",
     "output_type": "stream",
     "text": [
      "100%|██████████| 193/193 [00:10<00:00, 17.71it/s]\n"
     ]
    },
    {
     "name": "stdout",
     "output_type": "stream",
     "text": [
      "Train Loss: 0.2086, Accuracy: 92.68%, Precision: 0.9270, Recall: 0.9268, F1 Score: 0.9266\n"
     ]
    },
    {
     "name": "stderr",
     "output_type": "stream",
     "text": [
      "100%|██████████| 65/65 [00:07<00:00,  8.49it/s]\n"
     ]
    },
    {
     "name": "stdout",
     "output_type": "stream",
     "text": [
      "Val Loss: 0.1580, Accuracy: 94.94%, Precision: 0.9512, Recall: 0.9494, F1 Score: 0.9494\n",
      "--------------------------------------------------\n",
      "Best model saved with Val Loss: 0.1580\n",
      "Epoch 13/20\n",
      "----------\n"
     ]
    },
    {
     "name": "stderr",
     "output_type": "stream",
     "text": [
      "100%|██████████| 193/193 [00:11<00:00, 17.40it/s]\n"
     ]
    },
    {
     "name": "stdout",
     "output_type": "stream",
     "text": [
      "Train Loss: 0.2577, Accuracy: 91.19%, Precision: 0.9119, Recall: 0.9119, F1 Score: 0.9117\n"
     ]
    },
    {
     "name": "stderr",
     "output_type": "stream",
     "text": [
      "100%|██████████| 65/65 [00:07<00:00,  8.24it/s]\n"
     ]
    },
    {
     "name": "stdout",
     "output_type": "stream",
     "text": [
      "Val Loss: 0.3605, Accuracy: 86.67%, Precision: 0.8822, Recall: 0.8667, F1 Score: 0.8660\n",
      "--------------------------------------------------\n",
      "Epoch 14/20\n",
      "----------\n"
     ]
    },
    {
     "name": "stderr",
     "output_type": "stream",
     "text": [
      "100%|██████████| 193/193 [00:10<00:00, 17.57it/s]\n"
     ]
    },
    {
     "name": "stdout",
     "output_type": "stream",
     "text": [
      "Train Loss: 0.2045, Accuracy: 93.00%, Precision: 0.9300, Recall: 0.9300, F1 Score: 0.9299\n"
     ]
    },
    {
     "name": "stderr",
     "output_type": "stream",
     "text": [
      "100%|██████████| 65/65 [00:06<00:00,  9.31it/s]\n"
     ]
    },
    {
     "name": "stdout",
     "output_type": "stream",
     "text": [
      "Val Loss: 0.3214, Accuracy: 88.62%, Precision: 0.8899, Recall: 0.8862, F1 Score: 0.8851\n",
      "--------------------------------------------------\n",
      "Epoch 15/20\n",
      "----------\n"
     ]
    },
    {
     "name": "stderr",
     "output_type": "stream",
     "text": [
      "100%|██████████| 193/193 [00:10<00:00, 17.60it/s]\n"
     ]
    },
    {
     "name": "stdout",
     "output_type": "stream",
     "text": [
      "Train Loss: 0.2379, Accuracy: 91.84%, Precision: 0.9183, Recall: 0.9184, F1 Score: 0.9183\n"
     ]
    },
    {
     "name": "stderr",
     "output_type": "stream",
     "text": [
      "100%|██████████| 65/65 [00:07<00:00,  8.98it/s]\n"
     ]
    },
    {
     "name": "stdout",
     "output_type": "stream",
     "text": [
      "Val Loss: 0.1880, Accuracy: 93.77%, Precision: 0.9413, Recall: 0.9377, F1 Score: 0.9377\n",
      "--------------------------------------------------\n",
      "Epoch 16/20\n",
      "----------\n"
     ]
    },
    {
     "name": "stderr",
     "output_type": "stream",
     "text": [
      "100%|██████████| 193/193 [00:10<00:00, 17.61it/s]\n"
     ]
    },
    {
     "name": "stdout",
     "output_type": "stream",
     "text": [
      "Train Loss: 0.1915, Accuracy: 93.26%, Precision: 0.9327, Recall: 0.9326, F1 Score: 0.9326\n"
     ]
    },
    {
     "name": "stderr",
     "output_type": "stream",
     "text": [
      "100%|██████████| 65/65 [00:07<00:00,  8.96it/s]\n"
     ]
    },
    {
     "name": "stdout",
     "output_type": "stream",
     "text": [
      "Val Loss: 0.2246, Accuracy: 91.93%, Precision: 0.9215, Recall: 0.9193, F1 Score: 0.9184\n",
      "--------------------------------------------------\n",
      "Epoch 17/20\n",
      "----------\n"
     ]
    },
    {
     "name": "stderr",
     "output_type": "stream",
     "text": [
      "100%|██████████| 193/193 [00:11<00:00, 17.22it/s]\n"
     ]
    },
    {
     "name": "stdout",
     "output_type": "stream",
     "text": [
      "Train Loss: 0.2333, Accuracy: 92.03%, Precision: 0.9204, Recall: 0.9203, F1 Score: 0.9202\n"
     ]
    },
    {
     "name": "stderr",
     "output_type": "stream",
     "text": [
      "100%|██████████| 65/65 [00:07<00:00,  9.11it/s]\n"
     ]
    },
    {
     "name": "stdout",
     "output_type": "stream",
     "text": [
      "Val Loss: 0.4461, Accuracy: 86.19%, Precision: 0.8776, Recall: 0.8619, F1 Score: 0.8573\n",
      "--------------------------------------------------\n",
      "Epoch 18/20\n",
      "----------\n"
     ]
    },
    {
     "name": "stderr",
     "output_type": "stream",
     "text": [
      "100%|██████████| 193/193 [00:10<00:00, 17.89it/s]\n"
     ]
    },
    {
     "name": "stdout",
     "output_type": "stream",
     "text": [
      "Train Loss: 0.1666, Accuracy: 94.40%, Precision: 0.9440, Recall: 0.9440, F1 Score: 0.9439\n"
     ]
    },
    {
     "name": "stderr",
     "output_type": "stream",
     "text": [
      "100%|██████████| 65/65 [00:07<00:00,  8.36it/s]\n"
     ]
    },
    {
     "name": "stdout",
     "output_type": "stream",
     "text": [
      "Val Loss: 0.1163, Accuracy: 96.01%, Precision: 0.9615, Recall: 0.9601, F1 Score: 0.9602\n",
      "--------------------------------------------------\n",
      "Best model saved with Val Loss: 0.1163\n",
      "Epoch 19/20\n",
      "----------\n"
     ]
    },
    {
     "name": "stderr",
     "output_type": "stream",
     "text": [
      "100%|██████████| 193/193 [00:11<00:00, 16.87it/s]\n"
     ]
    },
    {
     "name": "stdout",
     "output_type": "stream",
     "text": [
      "Train Loss: 0.1853, Accuracy: 94.14%, Precision: 0.9414, Recall: 0.9414, F1 Score: 0.9413\n"
     ]
    },
    {
     "name": "stderr",
     "output_type": "stream",
     "text": [
      "100%|██████████| 65/65 [00:07<00:00,  8.25it/s]\n"
     ]
    },
    {
     "name": "stdout",
     "output_type": "stream",
     "text": [
      "Val Loss: 0.1666, Accuracy: 94.16%, Precision: 0.9433, Recall: 0.9416, F1 Score: 0.9418\n",
      "--------------------------------------------------\n",
      "Epoch 20/20\n",
      "----------\n"
     ]
    },
    {
     "name": "stderr",
     "output_type": "stream",
     "text": [
      "100%|██████████| 193/193 [00:11<00:00, 17.52it/s]\n"
     ]
    },
    {
     "name": "stdout",
     "output_type": "stream",
     "text": [
      "Train Loss: 0.1507, Accuracy: 94.59%, Precision: 0.9461, Recall: 0.9459, F1 Score: 0.9458\n"
     ]
    },
    {
     "name": "stderr",
     "output_type": "stream",
     "text": [
      "100%|██████████| 65/65 [00:07<00:00,  8.15it/s]"
     ]
    },
    {
     "name": "stdout",
     "output_type": "stream",
     "text": [
      "Val Loss: 0.1400, Accuracy: 95.04%, Precision: 0.9533, Recall: 0.9504, F1 Score: 0.9506\n",
      "--------------------------------------------------\n"
     ]
    },
    {
     "name": "stderr",
     "output_type": "stream",
     "text": [
      "\n"
     ]
    }
   ],
   "source": [
    "train(\n",
    "    model=resnet18,\n",
    "    optimizer=optimizer, \n",
    "    criterion=criterion, \n",
    "    train_loader=train_loader, \n",
    "    val_loader=val_loader, \n",
    "    num_epochs=20,\n",
    "    start_epoch=10, \n",
    "    device=device,\n",
    "    models_weights_path=\"./models_weights/resnet18/best_model.pth\")\n"
   ]
  },
  {
   "cell_type": "markdown",
   "metadata": {},
   "source": [
    "after 20 epochs"
   ]
  },
  {
   "cell_type": "code",
   "execution_count": 18,
   "metadata": {},
   "outputs": [],
   "source": [
    "torch.save(resnet18, \"./models_weights/resnet18/final_model.pth\")"
   ]
  },
  {
   "cell_type": "code",
   "execution_count": 14,
   "metadata": {},
   "outputs": [
    {
     "name": "stderr",
     "output_type": "stream",
     "text": [
      "100%|██████████| 65/65 [00:07<00:00,  8.53it/s]\n"
     ]
    },
    {
     "data": {
      "text/plain": [
       "(0.17033182693322976,\n",
       " 95.13618677042801,\n",
       " 0.9534109405773624,\n",
       " 0.9513618677042801,\n",
       " 0.9512956473627326)"
      ]
     },
     "execution_count": 14,
     "metadata": {},
     "output_type": "execute_result"
    }
   ],
   "source": [
    "evaluate(dataloader=test_loader, model=resnet18, device=device, criterion=criterion)"
   ]
  },
  {
   "cell_type": "code",
   "execution_count": 16,
   "metadata": {},
   "outputs": [
    {
     "name": "stderr",
     "output_type": "stream",
     "text": [
      "C:\\Users\\001\\AppData\\Local\\Temp\\ipykernel_15560\\3451327770.py:1: FutureWarning: You are using `torch.load` with `weights_only=False` (the current default value), which uses the default pickle module implicitly. It is possible to construct malicious pickle data which will execute arbitrary code during unpickling (See https://github.com/pytorch/pytorch/blob/main/SECURITY.md#untrusted-models for more details). In a future release, the default value for `weights_only` will be flipped to `True`. This limits the functions that could be executed during unpickling. Arbitrary objects will no longer be allowed to be loaded via this mode unless they are explicitly allowlisted by the user via `torch.serialization.add_safe_globals`. We recommend you start setting `weights_only=True` for any use case where you don't have full control of the loaded file. Please open an issue on GitHub for any issues related to this experimental feature.\n",
      "  m = torch.load(\"./models_weights/resnet18/best_model.pth\")\n"
     ]
    }
   ],
   "source": [
    "m = torch.load(\"./models_weights/resnet18/best_model.pth\")"
   ]
  },
  {
   "cell_type": "markdown",
   "metadata": {},
   "source": [
    "best model"
   ]
  },
  {
   "cell_type": "code",
   "execution_count": 17,
   "metadata": {},
   "outputs": [
    {
     "name": "stderr",
     "output_type": "stream",
     "text": [
      "100%|██████████| 65/65 [00:07<00:00,  9.06it/s]\n"
     ]
    },
    {
     "data": {
      "text/plain": [
       "(0.11528536229821978,\n",
       " 96.20622568093385,\n",
       " 0.9626275712457534,\n",
       " 0.9620622568093385,\n",
       " 0.9620504900307814)"
      ]
     },
     "execution_count": 17,
     "metadata": {},
     "output_type": "execute_result"
    }
   ],
   "source": [
    "evaluate(dataloader=test_loader, model=m, device=device, criterion=criterion)"
   ]
  },
  {
   "cell_type": "code",
   "execution_count": 19,
   "metadata": {},
   "outputs": [
    {
     "name": "stdout",
     "output_type": "stream",
     "text": [
      "Collecting streamlit\n",
      "  Downloading streamlit-1.37.1-py2.py3-none-any.whl.metadata (8.5 kB)\n",
      "Collecting altair<6,>=4.0 (from streamlit)\n",
      "  Downloading altair-5.4.0-py3-none-any.whl.metadata (9.4 kB)\n",
      "Requirement already satisfied: blinker<2,>=1.0.0 in c:\\users\\001\\anaconda3\\envs\\pytorch-env\\lib\\site-packages (from streamlit) (1.8.2)\n",
      "Requirement already satisfied: cachetools<6,>=4.0 in c:\\users\\001\\anaconda3\\envs\\pytorch-env\\lib\\site-packages (from streamlit) (5.3.3)\n",
      "Requirement already satisfied: click<9,>=7.0 in c:\\users\\001\\anaconda3\\envs\\pytorch-env\\lib\\site-packages (from streamlit) (8.1.7)\n",
      "Requirement already satisfied: numpy<3,>=1.20 in c:\\users\\001\\anaconda3\\envs\\pytorch-env\\lib\\site-packages (from streamlit) (1.24.4)\n",
      "Requirement already satisfied: packaging<25,>=20 in c:\\users\\001\\anaconda3\\envs\\pytorch-env\\lib\\site-packages (from streamlit) (23.2)\n",
      "Requirement already satisfied: pandas<3,>=1.3.0 in c:\\users\\001\\anaconda3\\envs\\pytorch-env\\lib\\site-packages (from streamlit) (1.5.3)\n",
      "Requirement already satisfied: pillow<11,>=7.1.0 in c:\\users\\001\\anaconda3\\envs\\pytorch-env\\lib\\site-packages (from streamlit) (10.0.1)\n",
      "Requirement already satisfied: protobuf<6,>=3.20 in c:\\users\\001\\anaconda3\\envs\\pytorch-env\\lib\\site-packages (from streamlit) (4.25.3)\n",
      "Requirement already satisfied: pyarrow>=7.0 in c:\\users\\001\\anaconda3\\envs\\pytorch-env\\lib\\site-packages (from streamlit) (16.0.0)\n",
      "Requirement already satisfied: requests<3,>=2.27 in c:\\users\\001\\anaconda3\\envs\\pytorch-env\\lib\\site-packages (from streamlit) (2.31.0)\n",
      "Requirement already satisfied: rich<14,>=10.14.0 in c:\\users\\001\\anaconda3\\envs\\pytorch-env\\lib\\site-packages (from streamlit) (13.7.1)\n",
      "Requirement already satisfied: tenacity<9,>=8.1.0 in c:\\users\\001\\anaconda3\\envs\\pytorch-env\\lib\\site-packages (from streamlit) (8.3.0)\n",
      "Collecting toml<2,>=0.10.1 (from streamlit)\n",
      "  Downloading toml-0.10.2-py2.py3-none-any.whl.metadata (7.1 kB)\n",
      "Requirement already satisfied: typing-extensions<5,>=4.3.0 in c:\\users\\001\\anaconda3\\envs\\pytorch-env\\lib\\site-packages (from streamlit) (4.9.0)\n",
      "Requirement already satisfied: gitpython!=3.1.19,<4,>=3.0.7 in c:\\users\\001\\anaconda3\\envs\\pytorch-env\\lib\\site-packages (from streamlit) (3.1.41)\n",
      "Collecting pydeck<1,>=0.8.0b4 (from streamlit)\n",
      "  Downloading pydeck-0.9.1-py2.py3-none-any.whl.metadata (4.1 kB)\n",
      "Requirement already satisfied: tornado<7,>=6.0.3 in c:\\users\\001\\anaconda3\\envs\\pytorch-env\\lib\\site-packages (from streamlit) (6.2)\n",
      "Collecting watchdog<5,>=2.1.5 (from streamlit)\n",
      "  Downloading watchdog-4.0.2-py3-none-win_amd64.whl.metadata (38 kB)\n",
      "Requirement already satisfied: jinja2 in c:\\users\\001\\anaconda3\\envs\\pytorch-env\\lib\\site-packages (from altair<6,>=4.0->streamlit) (3.1.3)\n",
      "Requirement already satisfied: jsonschema>=3.0 in c:\\users\\001\\anaconda3\\envs\\pytorch-env\\lib\\site-packages (from altair<6,>=4.0->streamlit) (4.21.1)\n",
      "Collecting narwhals>=1.1.0 (from altair<6,>=4.0->streamlit)\n",
      "  Downloading narwhals-1.5.5-py3-none-any.whl.metadata (5.8 kB)\n",
      "Collecting typing-extensions<5,>=4.3.0 (from streamlit)\n",
      "  Downloading typing_extensions-4.12.2-py3-none-any.whl.metadata (3.0 kB)\n",
      "Requirement already satisfied: colorama in c:\\users\\001\\anaconda3\\envs\\pytorch-env\\lib\\site-packages (from click<9,>=7.0->streamlit) (0.4.6)\n",
      "Requirement already satisfied: gitdb<5,>=4.0.1 in c:\\users\\001\\anaconda3\\envs\\pytorch-env\\lib\\site-packages (from gitpython!=3.1.19,<4,>=3.0.7->streamlit) (4.0.11)\n",
      "Requirement already satisfied: python-dateutil>=2.8.1 in c:\\users\\001\\anaconda3\\envs\\pytorch-env\\lib\\site-packages (from pandas<3,>=1.3.0->streamlit) (2.8.2)\n",
      "Requirement already satisfied: pytz>=2020.1 in c:\\users\\001\\anaconda3\\envs\\pytorch-env\\lib\\site-packages (from pandas<3,>=1.3.0->streamlit) (2024.1)\n",
      "Requirement already satisfied: charset-normalizer<4,>=2 in c:\\users\\001\\anaconda3\\envs\\pytorch-env\\lib\\site-packages (from requests<3,>=2.27->streamlit) (2.0.4)\n",
      "Requirement already satisfied: idna<4,>=2.5 in c:\\users\\001\\anaconda3\\envs\\pytorch-env\\lib\\site-packages (from requests<3,>=2.27->streamlit) (3.4)\n",
      "Requirement already satisfied: urllib3<3,>=1.21.1 in c:\\users\\001\\anaconda3\\envs\\pytorch-env\\lib\\site-packages (from requests<3,>=2.27->streamlit) (1.26.18)\n",
      "Requirement already satisfied: certifi>=2017.4.17 in c:\\users\\001\\anaconda3\\envs\\pytorch-env\\lib\\site-packages (from requests<3,>=2.27->streamlit) (2024.2.2)\n",
      "Requirement already satisfied: markdown-it-py>=2.2.0 in c:\\users\\001\\anaconda3\\envs\\pytorch-env\\lib\\site-packages (from rich<14,>=10.14.0->streamlit) (3.0.0)\n",
      "Requirement already satisfied: pygments<3.0.0,>=2.13.0 in c:\\users\\001\\anaconda3\\envs\\pytorch-env\\lib\\site-packages (from rich<14,>=10.14.0->streamlit) (2.17.2)\n",
      "Requirement already satisfied: smmap<6,>=3.0.1 in c:\\users\\001\\anaconda3\\envs\\pytorch-env\\lib\\site-packages (from gitdb<5,>=4.0.1->gitpython!=3.1.19,<4,>=3.0.7->streamlit) (5.0.0)\n",
      "Requirement already satisfied: MarkupSafe>=2.0 in c:\\users\\001\\anaconda3\\envs\\pytorch-env\\lib\\site-packages (from jinja2->altair<6,>=4.0->streamlit) (2.1.3)\n",
      "Requirement already satisfied: attrs>=22.2.0 in c:\\users\\001\\anaconda3\\envs\\pytorch-env\\lib\\site-packages (from jsonschema>=3.0->altair<6,>=4.0->streamlit) (23.2.0)\n",
      "Requirement already satisfied: importlib-resources>=1.4.0 in c:\\users\\001\\anaconda3\\envs\\pytorch-env\\lib\\site-packages (from jsonschema>=3.0->altair<6,>=4.0->streamlit) (6.1.1)\n",
      "Requirement already satisfied: jsonschema-specifications>=2023.03.6 in c:\\users\\001\\anaconda3\\envs\\pytorch-env\\lib\\site-packages (from jsonschema>=3.0->altair<6,>=4.0->streamlit) (2023.12.1)\n",
      "Requirement already satisfied: pkgutil-resolve-name>=1.3.10 in c:\\users\\001\\anaconda3\\envs\\pytorch-env\\lib\\site-packages (from jsonschema>=3.0->altair<6,>=4.0->streamlit) (1.3.10)\n",
      "Requirement already satisfied: referencing>=0.28.4 in c:\\users\\001\\anaconda3\\envs\\pytorch-env\\lib\\site-packages (from jsonschema>=3.0->altair<6,>=4.0->streamlit) (0.33.0)\n",
      "Requirement already satisfied: rpds-py>=0.7.1 in c:\\users\\001\\anaconda3\\envs\\pytorch-env\\lib\\site-packages (from jsonschema>=3.0->altair<6,>=4.0->streamlit) (0.10.6)\n",
      "Requirement already satisfied: mdurl~=0.1 in c:\\users\\001\\anaconda3\\envs\\pytorch-env\\lib\\site-packages (from markdown-it-py>=2.2.0->rich<14,>=10.14.0->streamlit) (0.1.2)\n",
      "Requirement already satisfied: six>=1.5 in c:\\users\\001\\anaconda3\\envs\\pytorch-env\\lib\\site-packages (from python-dateutil>=2.8.1->pandas<3,>=1.3.0->streamlit) (1.16.0)\n",
      "Requirement already satisfied: zipp>=3.1.0 in c:\\users\\001\\anaconda3\\envs\\pytorch-env\\lib\\site-packages (from importlib-resources>=1.4.0->jsonschema>=3.0->altair<6,>=4.0->streamlit) (3.17.0)\n",
      "Downloading streamlit-1.37.1-py2.py3-none-any.whl (8.7 MB)\n",
      "   ---------------------------------------- 0.0/8.7 MB ? eta -:--:--\n",
      "   - -------------------------------------- 0.3/8.7 MB ? eta -:--:--\n",
      "   - -------------------------------------- 0.3/8.7 MB ? eta -:--:--\n",
      "   -- ------------------------------------- 0.5/8.7 MB 762.0 kB/s eta 0:00:11\n",
      "   --- ------------------------------------ 0.8/8.7 MB 860.9 kB/s eta 0:00:10\n",
      "   --- ------------------------------------ 0.8/8.7 MB 860.9 kB/s eta 0:00:10\n",
      "   ---- ----------------------------------- 1.0/8.7 MB 898.8 kB/s eta 0:00:09\n",
      "   ------ --------------------------------- 1.3/8.7 MB 907.1 kB/s eta 0:00:09\n",
      "   ------- -------------------------------- 1.6/8.7 MB 942.3 kB/s eta 0:00:08\n",
      "   -------- ------------------------------- 1.8/8.7 MB 967.9 kB/s eta 0:00:08\n",
      "   --------- ------------------------------ 2.1/8.7 MB 1.0 MB/s eta 0:00:07\n",
      "   ---------- ----------------------------- 2.4/8.7 MB 994.4 kB/s eta 0:00:07\n",
      "   ------------ --------------------------- 2.6/8.7 MB 1.0 MB/s eta 0:00:06\n",
      "   ------------- -------------------------- 2.9/8.7 MB 1.0 MB/s eta 0:00:06\n",
      "   -------------- ------------------------- 3.1/8.7 MB 1.1 MB/s eta 0:00:06\n",
      "   --------------- ------------------------ 3.4/8.7 MB 1.1 MB/s eta 0:00:05\n",
      "   ------------------ --------------------- 3.9/8.7 MB 1.1 MB/s eta 0:00:05\n",
      "   ------------------- -------------------- 4.2/8.7 MB 1.2 MB/s eta 0:00:04\n",
      "   -------------------- ------------------- 4.5/8.7 MB 1.2 MB/s eta 0:00:04\n",
      "   --------------------- ------------------ 4.7/8.7 MB 1.2 MB/s eta 0:00:04\n",
      "   ------------------------ --------------- 5.2/8.7 MB 1.2 MB/s eta 0:00:03\n",
      "   ------------------------- -------------- 5.5/8.7 MB 1.2 MB/s eta 0:00:03\n",
      "   -------------------------- ------------- 5.8/8.7 MB 1.3 MB/s eta 0:00:03\n",
      "   ----------------------------- ---------- 6.3/8.7 MB 1.3 MB/s eta 0:00:02\n",
      "   ------------------------------ --------- 6.6/8.7 MB 1.3 MB/s eta 0:00:02\n",
      "   -------------------------------- ------- 7.1/8.7 MB 1.3 MB/s eta 0:00:02\n",
      "   ----------------------------------- ---- 7.6/8.7 MB 1.4 MB/s eta 0:00:01\n",
      "   ------------------------------------ --- 7.9/8.7 MB 1.4 MB/s eta 0:00:01\n",
      "   ------------------------------------- -- 8.1/8.7 MB 1.4 MB/s eta 0:00:01\n",
      "   ---------------------------------------- 8.7/8.7 MB 1.4 MB/s eta 0:00:00\n",
      "Downloading altair-5.4.0-py3-none-any.whl (671 kB)\n",
      "   ---------------------------------------- 0.0/671.7 kB ? eta -:--:--\n",
      "   --------------- ------------------------ 262.1/671.7 kB ? eta -:--:--\n",
      "   ---------------------------------------- 671.7/671.7 kB 2.0 MB/s eta 0:00:00\n",
      "Downloading pydeck-0.9.1-py2.py3-none-any.whl (6.9 MB)\n",
      "   ---------------------------------------- 0.0/6.9 MB ? eta -:--:--\n",
      "   - -------------------------------------- 0.3/6.9 MB ? eta -:--:--\n",
      "   ---- ----------------------------------- 0.8/6.9 MB 2.2 MB/s eta 0:00:03\n",
      "   ------ --------------------------------- 1.0/6.9 MB 2.2 MB/s eta 0:00:03\n",
      "   --------- ------------------------------ 1.6/6.9 MB 2.1 MB/s eta 0:00:03\n",
      "   ------------ --------------------------- 2.1/6.9 MB 2.1 MB/s eta 0:00:03\n",
      "   --------------- ------------------------ 2.6/6.9 MB 2.1 MB/s eta 0:00:03\n",
      "   ---------------- ----------------------- 2.9/6.9 MB 2.1 MB/s eta 0:00:02\n",
      "   ------------------- -------------------- 3.4/6.9 MB 2.1 MB/s eta 0:00:02\n",
      "   ---------------------- ----------------- 3.9/6.9 MB 2.2 MB/s eta 0:00:02\n",
      "   --------------------------- ------------ 4.7/6.9 MB 2.3 MB/s eta 0:00:01\n",
      "   ------------------------------ --------- 5.2/6.9 MB 2.3 MB/s eta 0:00:01\n",
      "   --------------------------------- ------ 5.8/6.9 MB 2.3 MB/s eta 0:00:01\n",
      "   ------------------------------------ --- 6.3/6.9 MB 2.3 MB/s eta 0:00:01\n",
      "   ---------------------------------------- 6.9/6.9 MB 2.4 MB/s eta 0:00:00\n",
      "Using cached toml-0.10.2-py2.py3-none-any.whl (16 kB)\n",
      "Downloading typing_extensions-4.12.2-py3-none-any.whl (37 kB)\n",
      "Downloading watchdog-4.0.2-py3-none-win_amd64.whl (82 kB)\n",
      "Downloading narwhals-1.5.5-py3-none-any.whl (152 kB)\n",
      "Installing collected packages: watchdog, typing-extensions, toml, narwhals, pydeck, altair, streamlit\n",
      "  Attempting uninstall: typing-extensions\n",
      "    Found existing installation: typing_extensions 4.9.0\n",
      "    Uninstalling typing_extensions-4.9.0:\n",
      "      Successfully uninstalled typing_extensions-4.9.0\n",
      "Successfully installed altair-5.4.0 narwhals-1.5.5 pydeck-0.9.1 streamlit-1.37.1 toml-0.10.2 typing-extensions-4.12.2 watchdog-4.0.2\n"
     ]
    },
    {
     "name": "stderr",
     "output_type": "stream",
     "text": [
      "WARNING: Error parsing dependencies of markdown-katex: Expected matching RIGHT_PARENTHESIS for LEFT_PARENTHESIS, after version specifier\n",
      "    Markdown (>=3.0<3.3) ; python_version < \"3.6\"\n",
      "             ~~~~~~^\n",
      "ERROR: pip's dependency resolver does not currently take into account all the packages that are installed. This behaviour is the source of the following dependency conflicts.\n",
      "albumentations 1.4.11 requires pydantic>=2.7.0, but you have pydantic 1.10.17 which is incompatible.\n",
      "pydantic-extra-types 2.9.0 requires pydantic>=2.5.2, but you have pydantic 1.10.17 which is incompatible.\n",
      "pydantic-settings 2.4.0 requires pydantic>=2.7.0, but you have pydantic 1.10.17 which is incompatible.\n"
     ]
    }
   ],
   "source": [
    "!pip install streamlit\n"
   ]
  },
  {
   "cell_type": "markdown",
   "metadata": {},
   "source": [
    "# Streamlit"
   ]
  },
  {
   "cell_type": "code",
   "execution_count": null,
   "metadata": {},
   "outputs": [],
   "source": []
  }
 ],
 "metadata": {
  "kernelspec": {
   "display_name": "pytorch-env",
   "language": "python",
   "name": "python3"
  },
  "language_info": {
   "codemirror_mode": {
    "name": "ipython",
    "version": 3
   },
   "file_extension": ".py",
   "mimetype": "text/x-python",
   "name": "python",
   "nbconvert_exporter": "python",
   "pygments_lexer": "ipython3",
   "version": "3.8.5"
  }
 },
 "nbformat": 4,
 "nbformat_minor": 2
}
